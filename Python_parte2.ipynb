{
 "cells": [
  {
   "cell_type": "markdown",
   "id": "5a18e726",
   "metadata": {},
   "source": [
    "<h1> Sumário da Parte 2: </h1>\n",
    "\n",
    "(Os links são clicáveis!)\n",
    "\n",
    "[1) Estruturas de decisão e repetição](#s1) <br>\n",
    "\n",
    "   [A) Estruturas de decisão](#s1a)<br>\n",
    "   [B) Estruturas de repetição](#s1b)<br>\n",
    "   [C) Combinando as estruturas](#s1c)<br>\n",
    "    \n",
    "[2) Erros e exceções](#s2) <br>\n",
    "    \n",
    "[3) Métodos e funções](#s3) <br>\n",
    "\n",
    "   [A) Funções](#s3a) <br>\n",
    "   [B) Métodos](#s3b) <br>\n",
    "\n",
    "[4) Módulos e pacotes](#s4) <br>\n",
    "\n",
    "[5) Programação orientada a objetos (POO)](#s5)<br>\n",
    "    \n",
    "*** \n",
    "Material criado por Bruna Franciele Faria, PhD in Computing, Data Science and Engineering.\n",
    "\n",
    "\n",
    "Referência: [Python](https://docs.python.org/pt-br/3/tutorial/index.html)"
   ]
  },
  {
   "cell_type": "markdown",
   "id": "c5ba9e80",
   "metadata": {},
   "source": [
    "<a id=\"s1\"><h1> 1) Estruturas de decisão e repetição </h1></a>"
   ]
  },
  {
   "cell_type": "markdown",
   "id": "11f3321b",
   "metadata": {},
   "source": [
    "<a id=\"s1a\"><h3> A) Estruturas de decisão </h3></a>\n",
    "\n",
    "Estruturas condicionais são responsáveis pelas tomadas de decisão, ou seja, a partir da avaliação de uma condição irão proceder com determinada decisão.\n",
    "\n",
    "* _if_ e _else_ : se e senão\n",
    "\n",
    "Estrutura básica:\n",
    "\n",
    "_if_ valor1 condição valor2:\n",
    "\n",
    "    faça\n",
    "\n",
    "_else_ :\n",
    "\n",
    "    faça\n",
    "\n",
    "A estrutura _if_ avalia uma expressão, caso seja verdadeira, os comandos subordinados são executados. \n",
    "\n",
    "**OBS.:** Não é obrigatório, mas em seguida, pode-se o _else_ com outros procedimentos subordinados os quais serão executados caso a condição do _if_ seja falsa."
   ]
  },
  {
   "cell_type": "code",
   "execution_count": 1,
   "id": "d9da84b2",
   "metadata": {},
   "outputs": [
    {
     "name": "stdout",
     "output_type": "stream",
     "text": [
      "3 é maior que 0\n"
     ]
    }
   ],
   "source": [
    "# Exemplo:\n",
    "\n",
    "if 3 >= 0:\n",
    "    print('3 é maior que 0')\n",
    "else:\n",
    "    print('3 não é maior que 0')"
   ]
  },
  {
   "cell_type": "code",
   "execution_count": 2,
   "id": "161406ff",
   "metadata": {},
   "outputs": [
    {
     "name": "stdout",
     "output_type": "stream",
     "text": [
      "a é verdadeiro\n"
     ]
    }
   ],
   "source": [
    "a = True\n",
    "\n",
    "if a != False:\n",
    "    print('a é verdadeiro')\n",
    "else: \n",
    "    print('a é falso')"
   ]
  },
  {
   "cell_type": "code",
   "execution_count": 3,
   "id": "5e529490",
   "metadata": {},
   "outputs": [
    {
     "name": "stdout",
     "output_type": "stream",
     "text": [
      "a é falso\n"
     ]
    }
   ],
   "source": [
    "a = False\n",
    "\n",
    "if a != False:\n",
    "    print('a é verdadeiro')\n",
    "else: \n",
    "    print('a é falso')"
   ]
  },
  {
   "cell_type": "code",
   "execution_count": 4,
   "id": "cc4258c4",
   "metadata": {},
   "outputs": [
    {
     "name": "stdout",
     "output_type": "stream",
     "text": [
      "a > 5 e b = 4\n",
      "a < 10 ou b < 5\n",
      "a está fora da lista\n",
      "b não está na lista\n"
     ]
    }
   ],
   "source": [
    "# Estrutura mais complexas combinando operadores\n",
    "\n",
    "a = 8\n",
    "b = 4\n",
    "\n",
    "if a > 5 and b == 4:\n",
    "    print('a > 5 e b = 4')\n",
    "    \n",
    "if a < 10 or b < 5:\n",
    "    print('a < 10 ou b < 5')\n",
    "    \n",
    "if a in [1,2,3,4]:\n",
    "    print('a está na lista')\n",
    "else:\n",
    "    print('a está fora da lista')\n",
    "\n",
    "if b not in [5,6,7,8]:\n",
    "    print('b não está na lista')\n",
    "else:\n",
    "    print('b está na lista')"
   ]
  },
  {
   "cell_type": "markdown",
   "id": "b524ca73",
   "metadata": {},
   "source": [
    "<a id=\"s1b\"><h3> B) Estruturas de repetição </h3></a>\n",
    "\n",
    "As estruturas de repetição são responsáveis por criar laços que repetem os procedimentos a eles subordinados. \n",
    "- A cada repetição é dada o nome de iteração.\n",
    "- _while_ e _for_\n",
    "\n",
    "Estrutura básica:\n",
    "\n",
    "interação = valor\n",
    "\n",
    "_while_ interação condição:\n",
    "\n",
    "    faca\n",
    "    atualiza a interação\n",
    "    \n",
    "_for_ variável _in_ lista:\n",
    "\n",
    "    faca\n",
    "    \n",
    "_While_ :avalia a condição a ele exposta a cada iteração, e enquanto ela for verdadeira, o laço é mantido. Quando a condição é falsa, o laço é terminado.\n",
    "\n",
    "_For_ :ao invés de avaliar uma condição ele varre os valores de uma lista. Quando a lista de valores acaba, o loop termina."
   ]
  },
  {
   "cell_type": "code",
   "execution_count": 5,
   "id": "8c37dc43",
   "metadata": {},
   "outputs": [
    {
     "name": "stdout",
     "output_type": "stream",
     "text": [
      "0\n",
      "1\n",
      "2\n",
      "3\n",
      "4\n"
     ]
    }
   ],
   "source": [
    "# Exemplo While:\n",
    "\n",
    "interacao = 0\n",
    "while interacao < 5:\n",
    "    print(interacao)\n",
    "    interacao+=1"
   ]
  },
  {
   "cell_type": "code",
   "execution_count": 6,
   "id": "e0559666",
   "metadata": {},
   "outputs": [
    {
     "name": "stdout",
     "output_type": "stream",
     "text": [
      "0\n",
      "1\n",
      "2\n",
      "3\n",
      "4\n"
     ]
    }
   ],
   "source": [
    "# Exemplo For:\n",
    "\n",
    "for i in range(5):\n",
    "    print(i)"
   ]
  },
  {
   "cell_type": "code",
   "execution_count": 7,
   "id": "a5a5022c",
   "metadata": {},
   "outputs": [
    {
     "name": "stdout",
     "output_type": "stream",
     "text": [
      "[0, 1, 2, 3, 4]\n"
     ]
    }
   ],
   "source": [
    "# Extra: o for pode ser usado para especificar condições para criar uma lista:\n",
    "\n",
    "lista = [x for x in range(5)]\n",
    "print(lista)"
   ]
  },
  {
   "cell_type": "markdown",
   "id": "46d28b05",
   "metadata": {},
   "source": [
    "<a id=\"s1c\"><h3> C) Combinando as estruturas: </h3></a>\n",
    "\n",
    "- Existem os chamados desvios incondicionais que provocam uma mudança da execução do programa para outra linha, ou seja, desviam o código para outra parte.\n",
    "- Há dois comandos de desvio: _break_ e _continue_\n",
    "\n",
    "_break_ : ele serva para sair do laço.\n",
    "\n",
    "_continue_ : ele serve para, a partir do momento que é atingindo, pular para a próxima iteração do laço, ignorando os procedimentos abaixo dele.\n",
    "\n",
    "_pass_ : ele indica ue o interpretador deve prosseguir normalmente, isto é, deixar passar. Parece sem utilidade, mas é muito útil para ignorar exceções ou definir classes vazias, por exemplo."
   ]
  },
  {
   "cell_type": "code",
   "execution_count": 8,
   "id": "5c892530",
   "metadata": {},
   "outputs": [
    {
     "name": "stdout",
     "output_type": "stream",
     "text": [
      "0\n"
     ]
    }
   ],
   "source": [
    "# Exemplo:\n",
    "\n",
    "for i in range(0,10):\n",
    "    if i % 2 == 0: # se i é par\n",
    "        print(i)\n",
    "    else: # senão para a execução\n",
    "        break"
   ]
  },
  {
   "cell_type": "code",
   "execution_count": 9,
   "id": "ab699b93",
   "metadata": {},
   "outputs": [
    {
     "name": "stdout",
     "output_type": "stream",
     "text": [
      "0\n",
      "1\n",
      "2\n",
      "3\n",
      "4\n"
     ]
    }
   ],
   "source": [
    "x=0\n",
    "while True: # while True indica um loop infinito, isto é, nunca sairá dele! Por isso usa uma condição de parada.\n",
    "    print(x)\n",
    "    x+=1\n",
    "    if x == 5:\n",
    "        break "
   ]
  },
  {
   "cell_type": "code",
   "execution_count": 10,
   "id": "9f38950b",
   "metadata": {},
   "outputs": [
    {
     "name": "stdout",
     "output_type": "stream",
     "text": [
      "0\n",
      "1\n",
      "2\n",
      "3\n",
      "4\n",
      "o loop for foi executado e prosseguiu quando i foi maior ou igual a 5!\n"
     ]
    }
   ],
   "source": [
    "for i in range(10):\n",
    "    if i < 5:\n",
    "        print(i)\n",
    "    if i >= 5:\n",
    "        continue\n",
    "        print('comando depois do continue')\n",
    "    if i == 8:\n",
    "        print('segunda condição para x colocada após o continue')\n",
    "        \n",
    "print('o loop for foi executado e prosseguiu quando i foi maior ou igual a 5!')"
   ]
  },
  {
   "cell_type": "code",
   "execution_count": 11,
   "id": "089933bb",
   "metadata": {},
   "outputs": [
    {
     "name": "stdout",
     "output_type": "stream",
     "text": [
      "0\n",
      "1\n",
      "2\n",
      "3\n",
      "4\n",
      "i é igual a 5\n",
      "5\n",
      "6\n",
      "7\n",
      "8\n",
      "9\n"
     ]
    }
   ],
   "source": [
    "for i in range(10):\n",
    "    if i == 5:\n",
    "        pass\n",
    "        print('i é igual a 5')\n",
    "    \n",
    "    print(i)"
   ]
  },
  {
   "cell_type": "markdown",
   "id": "6443a22c",
   "metadata": {},
   "source": [
    "<a id='s2'><h1> 2) Erros e exceções </h1></a>\n",
    "\n",
    "\n",
    "Erros e exceções são tratados usando a estrutura _try-except_ (similar ao _if-else_)\n",
    "\n",
    "- No bloco try ficarão os procedimentos padrões que o programa deve realizar;\n",
    "\n",
    "- No bloco except estarão os procedimentos do tratamento do erro, caso ele aconteça."
   ]
  },
  {
   "cell_type": "code",
   "execution_count": 12,
   "id": "7a2c0d2c",
   "metadata": {},
   "outputs": [
    {
     "name": "stdout",
     "output_type": "stream",
     "text": [
      "Digite o primeiro numero: 5\n",
      "Digite o segundo numero: 6\n"
     ]
    },
    {
     "ename": "TypeError",
     "evalue": "unsupported operand type(s) for /: 'str' and 'str'",
     "output_type": "error",
     "traceback": [
      "\u001b[1;31m-----------------------------------------------------------\u001b[0m",
      "\u001b[1;31mTypeError\u001b[0m                 Traceback (most recent call last)",
      "\u001b[1;32m<ipython-input-12-2d6d1b85e584>\u001b[0m in \u001b[0;36m<module>\u001b[1;34m\u001b[0m\n\u001b[0;32m      2\u001b[0m \u001b[0mnum2\u001b[0m \u001b[1;33m=\u001b[0m \u001b[0minput\u001b[0m\u001b[1;33m(\u001b[0m\u001b[1;34m'Digite o segundo numero: '\u001b[0m\u001b[1;33m)\u001b[0m\u001b[1;33m\u001b[0m\u001b[1;33m\u001b[0m\u001b[0m\n\u001b[0;32m      3\u001b[0m \u001b[1;33m\u001b[0m\u001b[0m\n\u001b[1;32m----> 4\u001b[1;33m \u001b[0mnum1\u001b[0m \u001b[1;33m/\u001b[0m \u001b[0mnum2\u001b[0m\u001b[1;33m\u001b[0m\u001b[1;33m\u001b[0m\u001b[0m\n\u001b[0m",
      "\u001b[1;31mTypeError\u001b[0m: unsupported operand type(s) for /: 'str' and 'str'"
     ]
    }
   ],
   "source": [
    "num1 = input('Digite o primeiro numero: ')\n",
    "num2 = input('Digite o segundo numero: ')\n",
    "\n",
    "num1 / num2"
   ]
  },
  {
   "cell_type": "code",
   "execution_count": 13,
   "id": "a3508691",
   "metadata": {},
   "outputs": [
    {
     "name": "stdout",
     "output_type": "stream",
     "text": [
      "Digite o primeiro numero: 5\n",
      "Digite o segundo numero: 3\n",
      "Valor da divisao:  1.6666666666666667\n"
     ]
    }
   ],
   "source": [
    "num1 = float(input('Digite o primeiro numero: '))\n",
    "num2 = float(input('Digite o segundo numero: '))\n",
    "\n",
    "try: \n",
    "    print('Valor da divisao: ', num1 / num2)\n",
    "except:\n",
    "    print('Voce deve digitar apenas numeros que sejam diferentes de zero!')"
   ]
  },
  {
   "cell_type": "code",
   "execution_count": 14,
   "id": "fd29de98",
   "metadata": {},
   "outputs": [
    {
     "name": "stdout",
     "output_type": "stream",
     "text": [
      "Digite o primeiro numero: 6\n",
      "Digite o segundo numero: 0\n",
      "Voce deve digitar apenas numeros que sejam diferentes de zero!\n"
     ]
    }
   ],
   "source": [
    "num1 = float(input('Digite o primeiro numero: '))\n",
    "num2 = float(input('Digite o segundo numero: '))\n",
    "\n",
    "try: \n",
    "    print('Valor da divisao: ', num1 / num2)\n",
    "except:\n",
    "    print('Voce deve digitar apenas numeros que sejam diferentes de zero!')"
   ]
  },
  {
   "cell_type": "code",
   "execution_count": 15,
   "id": "aed341ed",
   "metadata": {},
   "outputs": [
    {
     "ename": "ZeroDivisionError",
     "evalue": "division by zero",
     "output_type": "error",
     "traceback": [
      "\u001b[1;31m-----------------------------------------------------------\u001b[0m",
      "\u001b[1;31mZeroDivisionError\u001b[0m         Traceback (most recent call last)",
      "\u001b[1;32m<ipython-input-15-0106664d39e8>\u001b[0m in \u001b[0;36m<module>\u001b[1;34m\u001b[0m\n\u001b[1;32m----> 1\u001b[1;33m \u001b[1;36m5\u001b[0m\u001b[1;33m/\u001b[0m\u001b[1;36m0\u001b[0m\u001b[1;33m\u001b[0m\u001b[1;33m\u001b[0m\u001b[0m\n\u001b[0m",
      "\u001b[1;31mZeroDivisionError\u001b[0m: division by zero"
     ]
    }
   ],
   "source": [
    "5/0"
   ]
  },
  {
   "cell_type": "code",
   "execution_count": 16,
   "id": "d21c6a0e",
   "metadata": {},
   "outputs": [
    {
     "ename": "NameError",
     "evalue": "name 'var' is not defined",
     "output_type": "error",
     "traceback": [
      "\u001b[1;31m-----------------------------------------------------------\u001b[0m",
      "\u001b[1;31mNameError\u001b[0m                 Traceback (most recent call last)",
      "\u001b[1;32m<ipython-input-16-84ddba356ca3>\u001b[0m in \u001b[0;36m<module>\u001b[1;34m\u001b[0m\n\u001b[1;32m----> 1\u001b[1;33m \u001b[0mvar\u001b[0m\u001b[1;33m\u001b[0m\u001b[1;33m\u001b[0m\u001b[0m\n\u001b[0m",
      "\u001b[1;31mNameError\u001b[0m: name 'var' is not defined"
     ]
    }
   ],
   "source": [
    "var"
   ]
  },
  {
   "cell_type": "code",
   "execution_count": 17,
   "id": "6b1e6e0b",
   "metadata": {},
   "outputs": [
    {
     "ename": "TypeError",
     "evalue": "can only concatenate str (not \"int\") to str",
     "output_type": "error",
     "traceback": [
      "\u001b[1;31m-----------------------------------------------------------\u001b[0m",
      "\u001b[1;31mTypeError\u001b[0m                 Traceback (most recent call last)",
      "\u001b[1;32m<ipython-input-17-d94d8be16e43>\u001b[0m in \u001b[0;36m<module>\u001b[1;34m\u001b[0m\n\u001b[1;32m----> 1\u001b[1;33m \u001b[1;34m'string'\u001b[0m \u001b[1;33m+\u001b[0m \u001b[1;36m25\u001b[0m\u001b[1;33m\u001b[0m\u001b[1;33m\u001b[0m\u001b[0m\n\u001b[0m",
      "\u001b[1;31mTypeError\u001b[0m: can only concatenate str (not \"int\") to str"
     ]
    }
   ],
   "source": [
    "'string' + 25"
   ]
  },
  {
   "cell_type": "code",
   "execution_count": 18,
   "id": "e1e59dd2",
   "metadata": {},
   "outputs": [
    {
     "name": "stdout",
     "output_type": "stream",
     "text": [
      "Digite uma string: b\n",
      "Digite um numero inteiro: 6\n",
      "Ocorreu um erro\n"
     ]
    }
   ],
   "source": [
    "string = input('Digite uma string: ')\n",
    "integer = int(input('Digite um numero inteiro: '))\n",
    "\n",
    "try: \n",
    "    print('Valor da soma: ', string + integer)\n",
    "    \n",
    "except (TypeError, NameError):\n",
    "    print('Ocorreu um erro')   "
   ]
  },
  {
   "cell_type": "code",
   "execution_count": 19,
   "id": "71835fe9",
   "metadata": {},
   "outputs": [
    {
     "name": "stdout",
     "output_type": "stream",
     "text": [
      "Digite uma string: \n",
      "Digite um numero inteiro: 5\n",
      "Ocorreu um erro\n"
     ]
    }
   ],
   "source": [
    "string = input('Digite uma string: ')\n",
    "integer = int(input('Digite um numero inteiro: '))\n",
    "\n",
    "try: \n",
    "    print('Valor da soma: ', string + integer)\n",
    "    \n",
    "except (TypeError, NameError):\n",
    "    print('Ocorreu um erro')   "
   ]
  },
  {
   "cell_type": "markdown",
   "id": "3c0d51c2",
   "metadata": {},
   "source": [
    "<a id='s3'><h1> 3) Métodos e funções </h1></a>\n",
    "\n",
    "\n",
    "\n",
    "<a id='s3a'><h3> A) Funções </h3></a>\n",
    "\n",
    "As funções auxiliam na automatização de peças de códigos que são utilizadas com frequência, ou seja, evita a necessidade de escreve-lo várias vezes."
   ]
  },
  {
   "cell_type": "code",
   "execution_count": 20,
   "id": "2ef0a93e",
   "metadata": {},
   "outputs": [],
   "source": [
    "# Exemplo 1:\n",
    "\n",
    "def nome():\n",
    "    return print('Essa é minha primeira função')"
   ]
  },
  {
   "cell_type": "code",
   "execution_count": 21,
   "id": "8fbe50d4",
   "metadata": {},
   "outputs": [
    {
     "name": "stdout",
     "output_type": "stream",
     "text": [
      "Essa é minha primeira função\n"
     ]
    }
   ],
   "source": [
    "# Para usar a função:\n",
    "\n",
    "nome()"
   ]
  },
  {
   "cell_type": "code",
   "execution_count": 22,
   "id": "23bf6870",
   "metadata": {},
   "outputs": [],
   "source": [
    "# Exemplo 2:\n",
    "\n",
    "def nome2(texto):\n",
    "    return print('Seu nome é: ', texto)"
   ]
  },
  {
   "cell_type": "code",
   "execution_count": 23,
   "id": "6cd4f7ae",
   "metadata": {},
   "outputs": [
    {
     "name": "stdout",
     "output_type": "stream",
     "text": [
      "Seu nome é:  Bruna\n"
     ]
    }
   ],
   "source": [
    "nome2('Bruna')"
   ]
  },
  {
   "cell_type": "code",
   "execution_count": 24,
   "id": "bec08a37",
   "metadata": {},
   "outputs": [
    {
     "name": "stdout",
     "output_type": "stream",
     "text": [
      "Seu nome é:  Maria\n"
     ]
    }
   ],
   "source": [
    "# Ou:\n",
    "\n",
    "var = 'Maria'\n",
    "\n",
    "nome2(var)"
   ]
  },
  {
   "cell_type": "code",
   "execution_count": 25,
   "id": "85dff591",
   "metadata": {},
   "outputs": [],
   "source": [
    "# Exemplo 3:\n",
    "\n",
    "def create_list(N):\n",
    "    tmp = list(range(N))\n",
    "    return tmp"
   ]
  },
  {
   "cell_type": "code",
   "execution_count": 26,
   "id": "acadb2bc",
   "metadata": {},
   "outputs": [
    {
     "data": {
      "text/plain": [
       "[0, 1, 2, 3, 4, 5, 6, 7, 8, 9]"
      ]
     },
     "execution_count": 26,
     "metadata": {},
     "output_type": "execute_result"
    }
   ],
   "source": [
    "create_list(10)"
   ]
  },
  {
   "cell_type": "code",
   "execution_count": 27,
   "id": "7d3761b3",
   "metadata": {},
   "outputs": [
    {
     "name": "stdout",
     "output_type": "stream",
     "text": [
      "[0, 1, 2, 3, 4, 5, 6, 7, 8, 9]\n"
     ]
    }
   ],
   "source": [
    "lista10 = create_list(10)\n",
    "print(lista10)"
   ]
  },
  {
   "cell_type": "code",
   "execution_count": 28,
   "id": "1ccf781e",
   "metadata": {},
   "outputs": [],
   "source": [
    "# Exemplo 4:\n",
    "\n",
    "def calculadora(var1, var2, op='soma'):\n",
    "    if op == 'soma':\n",
    "        return var1 + var2\n",
    "    \n",
    "    if op == 'subtracao':\n",
    "        return var1 - var2\n",
    "    \n",
    "    if op == 'multiplicacao':\n",
    "        return var1 * var2\n",
    "    \n",
    "    if op == 'divisao':\n",
    "        return var1 / var2"
   ]
  },
  {
   "cell_type": "code",
   "execution_count": 29,
   "id": "3b8f8c6c",
   "metadata": {},
   "outputs": [
    {
     "data": {
      "text/plain": [
       "11.5"
      ]
     },
     "execution_count": 29,
     "metadata": {},
     "output_type": "execute_result"
    }
   ],
   "source": [
    "calculadora(5,6.5)"
   ]
  },
  {
   "cell_type": "code",
   "execution_count": 30,
   "id": "64f11fdd",
   "metadata": {},
   "outputs": [
    {
     "data": {
      "text/plain": [
       "0.7692307692307693"
      ]
     },
     "execution_count": 30,
     "metadata": {},
     "output_type": "execute_result"
    }
   ],
   "source": [
    "calculadora(5,6.5, 'divisao')"
   ]
  },
  {
   "cell_type": "markdown",
   "id": "dc365ed7",
   "metadata": {},
   "source": [
    "## Quais possíveis erros podem decorrer durante a execução da função calculadora?\n",
    "\n",
    "\n",
    "## Crie uma nova versão dessa função, criando uma calculadora inteligente assumindo o uso do tratamento de erros e exceções.\n"
   ]
  },
  {
   "cell_type": "markdown",
   "id": "e648a98f",
   "metadata": {},
   "source": [
    "<a id='s3b'><h3> B) Métodos </h3></a>\n",
    "\n",
    "\n",
    "Você pode salvar suas funções em um arquivo .py e então carregar o conteúdo desse arquivo diretamente no seu notebook de trabalho ou ainda executar o programa na linha de comando do shell."
   ]
  },
  {
   "cell_type": "code",
   "execution_count": 31,
   "id": "4e7434bf",
   "metadata": {},
   "outputs": [],
   "source": [
    "import meu_pacote as fnc "
   ]
  },
  {
   "cell_type": "code",
   "execution_count": 42,
   "id": "2e18f010",
   "metadata": {},
   "outputs": [
    {
     "data": {
      "text/plain": [
       "' Meu primeiro metodo!\\n\\nAqui temos uma calculadora\\n\\n'"
      ]
     },
     "execution_count": 42,
     "metadata": {},
     "output_type": "execute_result"
    }
   ],
   "source": [
    "fnc.__doc__"
   ]
  },
  {
   "cell_type": "code",
   "execution_count": 43,
   "id": "88bff467",
   "metadata": {},
   "outputs": [
    {
     "data": {
      "text/plain": [
       "58"
      ]
     },
     "execution_count": 43,
     "metadata": {},
     "output_type": "execute_result"
    }
   ],
   "source": [
    "fnc.calculadora_pacote(123,65, 'subtracao')"
   ]
  },
  {
   "cell_type": "code",
   "execution_count": 44,
   "id": "0d64264f",
   "metadata": {},
   "outputs": [],
   "source": [
    "# import meu_pacote\n",
    "# from meu_pacote import calculadora_pacote"
   ]
  },
  {
   "cell_type": "markdown",
   "id": "b98f8fd0",
   "metadata": {},
   "source": [
    "<a id='s4'><h1> 4) Módulos e pacotes </h1></a>\n",
    "\n",
    "refs.:\n",
    "\n",
    "[A Biblioteca Padrão do Python](https://docs.python.org/pt-br/3/library/index.html#library-index)\n",
    "\n",
    "[Módulos Matemáticos e Numéricos](https://docs.python.org/pt-br/3/library/numeric.html)\n",
    "\n",
    "- [random](https://docs.python.org/pt-br/3/library/random.html) — Gera números pseudoaleatórios.\n",
    "- [math](https://docs.python.org/pt-br/3/library/math.html) — Funções matemáticas\n",
    "\n",
    "[Módulos de Programção Funcional](https://docs.python.org/pt-br/3/library/functional.html)"
   ]
  },
  {
   "cell_type": "code",
   "execution_count": null,
   "id": "d5569957",
   "metadata": {},
   "outputs": [],
   "source": [
    "import random\n",
    "import math"
   ]
  },
  {
   "cell_type": "markdown",
   "id": "68f0d30b",
   "metadata": {},
   "source": [
    "## Explore as funcionalidades dos pacotes citados acima!!"
   ]
  },
  {
   "cell_type": "markdown",
   "id": "58b22c13",
   "metadata": {},
   "source": [
    "<a id='s5'><h1> 5) Programação orientada a objetos (POO) </h1></a>\n",
    "\n",
    "\n",
    "- **Objeto:** é uma estrutura de dados que é uma instância de uma classe;\n",
    "\n",
    "        - classe é um \"molde\" e o objeto é criado a partir dele.\n",
    "        - ex.: a = 5, a é do tipo inteiro - o objeto a é da classe int.\n",
    "\n",
    "- **Atributos:** são os valores que existem dentro do objeto."
   ]
  },
  {
   "cell_type": "code",
   "execution_count": 45,
   "id": "80686f42",
   "metadata": {},
   "outputs": [],
   "source": [
    "class Carro():\n",
    "    modelo = 'Ford'\n",
    "    cor = 'Prata'\n",
    "    ano = 2020    "
   ]
  },
  {
   "cell_type": "code",
   "execution_count": 48,
   "id": "f016b1ab",
   "metadata": {},
   "outputs": [
    {
     "data": {
      "text/plain": [
       "'Ford'"
      ]
     },
     "execution_count": 48,
     "metadata": {},
     "output_type": "execute_result"
    }
   ],
   "source": [
    "meu_carro = Carro()\n",
    "\n",
    "meu_carro.modelo"
   ]
  },
  {
   "cell_type": "code",
   "execution_count": 49,
   "id": "95308cb6",
   "metadata": {},
   "outputs": [
    {
     "data": {
      "text/plain": [
       "2020"
      ]
     },
     "execution_count": 49,
     "metadata": {},
     "output_type": "execute_result"
    }
   ],
   "source": [
    "meu_carro.ano"
   ]
  },
  {
   "cell_type": "code",
   "execution_count": 50,
   "id": "d897ba1a",
   "metadata": {},
   "outputs": [
    {
     "data": {
      "text/plain": [
       "2016"
      ]
     },
     "execution_count": 50,
     "metadata": {},
     "output_type": "execute_result"
    }
   ],
   "source": [
    "meu_carro.ano = 2016\n",
    "meu_carro.ano"
   ]
  },
  {
   "cell_type": "markdown",
   "id": "dde0ea40",
   "metadata": {},
   "source": [
    "- **Métodos:** são funções intrínsecas aos objetos. São executadas de forma similar aos atributos e são como funções."
   ]
  },
  {
   "cell_type": "code",
   "execution_count": 53,
   "id": "18f6c344",
   "metadata": {},
   "outputs": [],
   "source": [
    "class Carro():\n",
    "    fabricante = 'Ford'\n",
    "    cor = 'Prata'\n",
    "    ano = 2020  \n",
    "    \n",
    "    def descricao(self):\n",
    "        print('Carro do fabricante: ', self.fabricante)\n",
    "        print('Carro da cor: ', self.cor)\n",
    "        print('Carro do ano: ', self.ano)"
   ]
  },
  {
   "cell_type": "code",
   "execution_count": 54,
   "id": "f4b4f645",
   "metadata": {},
   "outputs": [
    {
     "name": "stdout",
     "output_type": "stream",
     "text": [
      "Carro do fabricante:  Ford\n",
      "Carro da cor:  Prata\n",
      "Carro do ano:  2020\n"
     ]
    }
   ],
   "source": [
    "meu_carro = Carro()\n",
    "\n",
    "meu_carro.descricao()"
   ]
  },
  {
   "cell_type": "markdown",
   "id": "b1547b07",
   "metadata": {},
   "source": [
    "**Método construtor:** é um método especial das classes."
   ]
  },
  {
   "cell_type": "code",
   "execution_count": 56,
   "id": "10de7b2e",
   "metadata": {},
   "outputs": [],
   "source": [
    "class Carro():\n",
    "    def __init__(self, fabricante, cor, ano):\n",
    "        self.fabricante = fabricante\n",
    "        self.cor = cor\n",
    "        self.ano = ano  \n",
    "    \n",
    "    def descricao(self):\n",
    "        print('Carro do fabricante: ', self.fabricante)\n",
    "        print('Carro da cor: ', self.cor)\n",
    "        print('Carro do ano: ', self.ano)"
   ]
  },
  {
   "cell_type": "code",
   "execution_count": 59,
   "id": "c6336c0b",
   "metadata": {},
   "outputs": [
    {
     "ename": "TypeError",
     "evalue": "__init__() missing 3 required positional arguments: 'fabricante', 'cor', and 'ano'",
     "output_type": "error",
     "traceback": [
      "\u001b[1;31m-----------------------------------------------------------\u001b[0m",
      "\u001b[1;31mTypeError\u001b[0m                 Traceback (most recent call last)",
      "\u001b[1;32m<ipython-input-59-3fa901461031>\u001b[0m in \u001b[0;36m<module>\u001b[1;34m\u001b[0m\n\u001b[1;32m----> 1\u001b[1;33m \u001b[0mmeu_carro\u001b[0m \u001b[1;33m=\u001b[0m \u001b[0mCarro\u001b[0m\u001b[1;33m(\u001b[0m\u001b[1;33m)\u001b[0m\u001b[1;33m\u001b[0m\u001b[1;33m\u001b[0m\u001b[0m\n\u001b[0m\u001b[0;32m      2\u001b[0m \u001b[0mmeu_carro\u001b[0m\u001b[1;33m.\u001b[0m\u001b[0mdescricao\u001b[0m\u001b[1;33m(\u001b[0m\u001b[1;33m)\u001b[0m\u001b[1;33m\u001b[0m\u001b[1;33m\u001b[0m\u001b[0m\n",
      "\u001b[1;31mTypeError\u001b[0m: __init__() missing 3 required positional arguments: 'fabricante', 'cor', and 'ano'"
     ]
    }
   ],
   "source": [
    "meu_carro = Carro()\n",
    "meu_carro.descricao()"
   ]
  },
  {
   "cell_type": "code",
   "execution_count": 60,
   "id": "a23733b2",
   "metadata": {},
   "outputs": [
    {
     "name": "stdout",
     "output_type": "stream",
     "text": [
      "Carro do fabricante:  VW\n",
      "Carro da cor:  preto\n",
      "Carro do ano:  2021\n"
     ]
    }
   ],
   "source": [
    "meu_carro = Carro('VW', 'preto', 2021)\n",
    "meu_carro.descricao()"
   ]
  },
  {
   "cell_type": "markdown",
   "id": "3d0442ab",
   "metadata": {},
   "source": [
    "- **Métodos Estáticos:** método que pode ser chamado pela própria classe (similar a uma função externa a classe)\n",
    "\n",
    "Obs.: todos os métodos usados anteriormente são métodos dinâmicos, ou seja, é preciso instanciar o objeto em uma classe."
   ]
  },
  {
   "cell_type": "code",
   "execution_count": 61,
   "id": "4bc2ce19",
   "metadata": {},
   "outputs": [],
   "source": [
    "class soma_numeros():\n",
    "    def soma(self, a, b):\n",
    "        return a + b"
   ]
  },
  {
   "cell_type": "code",
   "execution_count": 62,
   "id": "9bf945ec",
   "metadata": {},
   "outputs": [
    {
     "data": {
      "text/plain": [
       "11"
      ]
     },
     "execution_count": 62,
     "metadata": {},
     "output_type": "execute_result"
    }
   ],
   "source": [
    "SN = soma_numeros()\n",
    "SN.soma(5,6)"
   ]
  },
  {
   "cell_type": "code",
   "execution_count": 65,
   "id": "dc3c7215",
   "metadata": {},
   "outputs": [
    {
     "data": {
      "text/plain": [
       "11"
      ]
     },
     "execution_count": 65,
     "metadata": {},
     "output_type": "execute_result"
    }
   ],
   "source": [
    "soma_numeros().soma(5,6)"
   ]
  },
  {
   "cell_type": "code",
   "execution_count": 64,
   "id": "1597b4e9",
   "metadata": {},
   "outputs": [
    {
     "ename": "TypeError",
     "evalue": "soma() missing 1 required positional argument: 'b'",
     "output_type": "error",
     "traceback": [
      "\u001b[1;31m-----------------------------------------------------------\u001b[0m",
      "\u001b[1;31mTypeError\u001b[0m                 Traceback (most recent call last)",
      "\u001b[1;32m<ipython-input-64-9243ae3f6c1e>\u001b[0m in \u001b[0;36m<module>\u001b[1;34m\u001b[0m\n\u001b[1;32m----> 1\u001b[1;33m \u001b[0msoma_numeros\u001b[0m\u001b[1;33m.\u001b[0m\u001b[0msoma\u001b[0m\u001b[1;33m(\u001b[0m\u001b[1;36m5\u001b[0m\u001b[1;33m,\u001b[0m\u001b[1;36m6\u001b[0m\u001b[1;33m)\u001b[0m\u001b[1;33m\u001b[0m\u001b[1;33m\u001b[0m\u001b[0m\n\u001b[0m",
      "\u001b[1;31mTypeError\u001b[0m: soma() missing 1 required positional argument: 'b'"
     ]
    }
   ],
   "source": [
    "soma_numeros.soma(5,6)"
   ]
  },
  {
   "cell_type": "code",
   "execution_count": 66,
   "id": "4a0e4567",
   "metadata": {},
   "outputs": [],
   "source": [
    "class soma_numeros2():\n",
    "    @staticmethod\n",
    "    def soma_estatica (a, b):\n",
    "        return a + b"
   ]
  },
  {
   "cell_type": "code",
   "execution_count": 68,
   "id": "74236f49",
   "metadata": {},
   "outputs": [
    {
     "data": {
      "text/plain": [
       "11"
      ]
     },
     "execution_count": 68,
     "metadata": {},
     "output_type": "execute_result"
    }
   ],
   "source": [
    "SN = soma_numeros2()\n",
    "SN.soma_estatica(5,6)"
   ]
  },
  {
   "cell_type": "code",
   "execution_count": 69,
   "id": "2f2dd6a9",
   "metadata": {},
   "outputs": [
    {
     "data": {
      "text/plain": [
       "11"
      ]
     },
     "execution_count": 69,
     "metadata": {},
     "output_type": "execute_result"
    }
   ],
   "source": [
    "soma_numeros2().soma_estatica(5,6)"
   ]
  },
  {
   "cell_type": "code",
   "execution_count": 70,
   "id": "3cb35d6d",
   "metadata": {},
   "outputs": [
    {
     "data": {
      "text/plain": [
       "11"
      ]
     },
     "execution_count": 70,
     "metadata": {},
     "output_type": "execute_result"
    }
   ],
   "source": [
    "soma_numeros2.soma_estatica(5,6)"
   ]
  },
  {
   "cell_type": "markdown",
   "id": "4ef1d089",
   "metadata": {},
   "source": [
    "**Herança:** é quando uma classe herda atributos e métodos de uma outra. A herdeira chama-se classe filha e a outra classe mãe.\n",
    "\n",
    "* Para uma classe herdaroutra, basta passá-la como parâmetro na definição da classe!"
   ]
  },
  {
   "cell_type": "code",
   "execution_count": 71,
   "id": "c0a36ad3",
   "metadata": {},
   "outputs": [
    {
     "name": "stdout",
     "output_type": "stream",
     "text": [
      "Usando a heraca da classe definida anteriormente: Carro\n"
     ]
    }
   ],
   "source": [
    "class Veiculos(Carro):\n",
    "    print('Usando a heraca da classe definida anteriormente: Carro')    "
   ]
  },
  {
   "cell_type": "code",
   "execution_count": 77,
   "id": "5e5bac9e",
   "metadata": {},
   "outputs": [
    {
     "name": "stdout",
     "output_type": "stream",
     "text": [
      "Carro do fabricante:  fiat\n",
      "Carro da cor:  branco\n",
      "Carro do ano:  2019\n"
     ]
    }
   ],
   "source": [
    "V = Veiculos('fiat', 'branco',2019)\n",
    "V.descricao()"
   ]
  },
  {
   "cell_type": "code",
   "execution_count": 78,
   "id": "615c6b6d",
   "metadata": {},
   "outputs": [
    {
     "data": {
      "text/plain": [
       "'branco'"
      ]
     },
     "execution_count": 78,
     "metadata": {},
     "output_type": "execute_result"
    }
   ],
   "source": [
    "V.cor"
   ]
  },
  {
   "cell_type": "code",
   "execution_count": null,
   "id": "6711fee4",
   "metadata": {},
   "outputs": [],
   "source": []
  }
 ],
 "metadata": {
  "kernelspec": {
   "display_name": "Python 3",
   "language": "python",
   "name": "python3"
  },
  "language_info": {
   "codemirror_mode": {
    "name": "ipython",
    "version": 3
   },
   "file_extension": ".py",
   "mimetype": "text/x-python",
   "name": "python",
   "nbconvert_exporter": "python",
   "pygments_lexer": "ipython3",
   "version": "3.8.8"
  }
 },
 "nbformat": 4,
 "nbformat_minor": 5
}
