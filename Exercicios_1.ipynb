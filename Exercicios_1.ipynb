{
 "cells": [
  {
   "cell_type": "markdown",
   "id": "e42f7beb",
   "metadata": {},
   "source": [
    "# 1) Instancie três variáveis quaisquer, sendo uma de cada tipo: str, int e float."
   ]
  },
  {
   "cell_type": "code",
   "execution_count": null,
   "id": "e8d11520",
   "metadata": {},
   "outputs": [],
   "source": [
    "# Código Aqui:\n",
    "\n",
    "var1 = ... # srt\n",
    "var2 = ... # int\n",
    "var3 = ... # float"
   ]
  },
  {
   "cell_type": "markdown",
   "id": "0cdd1976",
   "metadata": {},
   "source": [
    "# 2) Qual a diferença entre: var1 + var2 e var2 + var3? Por que isso ocorre?"
   ]
  },
  {
   "cell_type": "code",
   "execution_count": null,
   "id": "cf773a2d",
   "metadata": {},
   "outputs": [],
   "source": []
  },
  {
   "cell_type": "markdown",
   "id": "84e57ed4",
   "metadata": {},
   "source": [
    "# 3) Considere as variáveis: a = 1; b = 2; c = '1'; d = '2'. Qual a diferença entre a + b e c + d. Por que isso ocorre?"
   ]
  },
  {
   "cell_type": "code",
   "execution_count": null,
   "id": "17a3144a",
   "metadata": {},
   "outputs": [],
   "source": []
  },
  {
   "cell_type": "markdown",
   "id": "34718c3a",
   "metadata": {},
   "source": [
    "# 4) Considerando as variáveis da questão anterior, como podemos obter o resultado de a + b igual a c + d ou vice versa?"
   ]
  },
  {
   "cell_type": "code",
   "execution_count": null,
   "id": "dfbbed04",
   "metadata": {},
   "outputs": [],
   "source": []
  },
  {
   "cell_type": "markdown",
   "id": "87ea74ca",
   "metadata": {},
   "source": [
    "# 5) Crie um loop que conte quantas vezes cada nome está presente em uma lista [’nome1’, ’nome2’, ...] e armazena essa contagem em um dicionário {’nome1’: xvezes, ’nome2’: yvezes, ....}."
   ]
  },
  {
   "cell_type": "code",
   "execution_count": null,
   "id": "de302a09",
   "metadata": {},
   "outputs": [],
   "source": []
  },
  {
   "cell_type": "markdown",
   "id": "8495077d",
   "metadata": {},
   "source": [
    "# 6) Crie um programa que lê uma mensagem do usuário. Com esta mensagem, faça uma nova omitindo trocando todos os caracteres de nomes próprios por ’*’\n",
    "**Exemplo:** se a mensagem for ’Lucas foi ao shopping com Fernanda assistir aquele filme da Marvel’, a nova mensagem deverá ser ’***** foi ao shopping com ******** assistir aquele filme da ******’. Assuma que um nome próprio sempre começa com letra\n",
    "maiúscula e contém apenas letras."
   ]
  },
  {
   "cell_type": "markdown",
   "id": "bd2349c3",
   "metadata": {},
   "source": [
    "5.1 Crie um Python Script que receba um número inteiro n, correspondente a um valor\n",
    "em reais. Calcule a quantidade mínima de notas que um banco deve fornecer para\n",
    "atingir o valor. Notas disponíveis: 100,00 reais; 50,00 reais; 10,00 reais; 1,00 real.\n",
    "5.2 Faça um Python Script que receba um valor t referente a uma quantidade total em\n",
    "segundos. Calcule a quantas horas:minutos:segundos a quantidade total de segudos\n",
    "corresponde.\n",
    "5.3 Faça um programa que leia dois valores numéricos e realize a soma, subtração,\n",
    "multiplicação e divisão deles."
   ]
  },
  {
   "cell_type": "code",
   "execution_count": null,
   "id": "a2f5eaa9",
   "metadata": {},
   "outputs": [],
   "source": []
  }
 ],
 "metadata": {
  "kernelspec": {
   "display_name": "Python 3",
   "language": "python",
   "name": "python3"
  },
  "language_info": {
   "codemirror_mode": {
    "name": "ipython",
    "version": 3
   },
   "file_extension": ".py",
   "mimetype": "text/x-python",
   "name": "python",
   "nbconvert_exporter": "python",
   "pygments_lexer": "ipython3",
   "version": "3.8.3"
  }
 },
 "nbformat": 4,
 "nbformat_minor": 5
}
