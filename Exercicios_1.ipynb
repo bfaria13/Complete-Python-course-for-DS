{
 "cells": [
  {
   "cell_type": "markdown",
   "id": "e42f7beb",
   "metadata": {},
   "source": [
    "# 1) Instancie três variáveis quaisquer, sendo uma de cada tipo: str, int e float."
   ]
  },
  {
   "cell_type": "code",
   "execution_count": null,
   "id": "e8d11520",
   "metadata": {},
   "outputs": [],
   "source": [
    "# Código Aqui:\n",
    "\n",
    "var1 = ... # srt\n",
    "var2 = ... # int\n",
    "var3 = ... # float"
   ]
  },
  {
   "cell_type": "markdown",
   "id": "0cdd1976",
   "metadata": {},
   "source": [
    "# 2) Qual a diferença entre: var1 + var2 e var2 + var3? Por que isso ocorre?"
   ]
  },
  {
   "cell_type": "code",
   "execution_count": null,
   "id": "cf773a2d",
   "metadata": {},
   "outputs": [],
   "source": []
  },
  {
   "cell_type": "markdown",
   "id": "84e57ed4",
   "metadata": {},
   "source": [
    "# 3) Considere as variáveis: a = 1; b = 2; c = '1'; d = '2'. Qual a diferença entre a + b e c + d. Por que isso ocorre?"
   ]
  },
  {
   "cell_type": "code",
   "execution_count": null,
   "id": "17a3144a",
   "metadata": {},
   "outputs": [],
   "source": []
  },
  {
   "cell_type": "markdown",
   "id": "34718c3a",
   "metadata": {},
   "source": [
    "# 4) Considerando as variáveis da questão anterior, como podemos obter o resultado de a + b igual a c + d ou vice versa?"
   ]
  },
  {
   "cell_type": "code",
   "execution_count": null,
   "id": "dfbbed04",
   "metadata": {},
   "outputs": [],
   "source": []
  },
  {
   "cell_type": "markdown",
   "id": "87ea74ca",
   "metadata": {},
   "source": [
    "# 5) Crie um loop que conte quantas vezes cada nome está presente em uma lista [\"nome1\", \"nome2\", ...] e armazena essa contagem em um dicionário {\"nome1\": xvezes, \"nome2\": yvezes, ....}."
   ]
  },
  {
   "cell_type": "code",
   "execution_count": null,
   "id": "de302a09",
   "metadata": {},
   "outputs": [],
   "source": []
  },
  {
   "cell_type": "markdown",
   "id": "8495077d",
   "metadata": {},
   "source": [
    "# 6) Crie um programa que lê uma mensagem do usuário. Com esta mensagem, faça uma nova trocando todos os caracteres de nomes próprios por asteriscos *\n",
    "\n",
    "**Exemplo:** se a mensagem for \"Bruna foi ao shopping assistir um filme da Marvel\", a nova mensagem deverá ser \"***** foi ao shopping assistir um filme da ******\". Assuma que um nome próprio sempre começa com letra maiúscula e contém apenas letras."
   ]
  },
  {
   "cell_type": "code",
   "execution_count": null,
   "id": "6c34c707",
   "metadata": {},
   "outputs": [],
   "source": []
  },
  {
   "cell_type": "markdown",
   "id": "42c9d440",
   "metadata": {},
   "source": [
    "# 7) Crie uma calculadora."
   ]
  },
  {
   "cell_type": "code",
   "execution_count": null,
   "id": "0c58a274",
   "metadata": {},
   "outputs": [],
   "source": []
  },
  {
   "cell_type": "markdown",
   "id": "b0cbf083",
   "metadata": {},
   "source": [
    "# 8) Crie um módulo para que você possa usar sua calculadora em outros trabalhos."
   ]
  },
  {
   "cell_type": "code",
   "execution_count": null,
   "id": "954662da",
   "metadata": {},
   "outputs": [],
   "source": []
  },
  {
   "cell_type": "markdown",
   "id": "59351851",
   "metadata": {},
   "source": [
    "# 9) Transforme sua calculadora em uma classe, para que você possa usar as funções como objetos (POO)."
   ]
  },
  {
   "cell_type": "code",
   "execution_count": null,
   "id": "fc6fce81",
   "metadata": {},
   "outputs": [],
   "source": []
  },
  {
   "cell_type": "markdown",
   "id": "18b5b888",
   "metadata": {},
   "source": [
    "# 10) Crie um programa em que você consegue simular as operações básicas realizadas por um caixa eletrônico, ou seja, depositar e sacar.\n",
    "\n",
    "**Condições:** além de ser capaz de trabalhar as operações de saque e deposito, você deve sempre checar a disponibilidade de notas disponíveis no caixa e, de acordo com o saque, quantas notas de cada valor devem ser retornadas para o cliente.\n",
    "\n",
    "\n",
    "| Caixa eletrônico | 3 notas de 100 reais; 5 notas de 50 reais; 10 notas de 20 reais; 15 notas de 10 reais e 30 notas de 5 reais."
   ]
  },
  {
   "cell_type": "code",
   "execution_count": null,
   "id": "a2f5eaa9",
   "metadata": {},
   "outputs": [],
   "source": []
  }
 ],
 "metadata": {
  "kernelspec": {
   "display_name": "Python 3",
   "language": "python",
   "name": "python3"
  },
  "language_info": {
   "codemirror_mode": {
    "name": "ipython",
    "version": 3
   },
   "file_extension": ".py",
   "mimetype": "text/x-python",
   "name": "python",
   "nbconvert_exporter": "python",
   "pygments_lexer": "ipython3",
   "version": "3.8.8"
  }
 },
 "nbformat": 4,
 "nbformat_minor": 5
}
