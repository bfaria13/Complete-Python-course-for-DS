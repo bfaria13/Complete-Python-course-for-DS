{
 "cells": [
  {
   "cell_type": "markdown",
   "id": "aa5d2b07",
   "metadata": {},
   "source": [
    "# Curso Básico de Python\n",
    "\n",
    "\n",
    "*** \n",
    "Material criado por Bruna Franciele Faria, PhD in Computing, Data Science and Engineering.\n",
    "\n",
    "Referência: [Python](https://docs.python.org/pt-br/3/tutorial/index.html)"
   ]
  },
  {
   "cell_type": "markdown",
   "id": "c0ef5b12",
   "metadata": {},
   "source": [
    "<h1> Sumário da Parte 1: </h1>\n",
    "\n",
    "\n",
    "[A) Introdução do Jupyter-Notebook](#s1) <br>\n",
    "\n",
    "[B) O que é a linguagem de programação Python?](#s2) <br>\n",
    "    \n",
    "[1) Variáveis](#s2a) <br>\n",
    "\n",
    "[2) Operadores aritméticos](#s2b) <br>\n",
    "\n",
    "[3) Operadores lógicos](#s2c) <br>\n",
    "\n",
    "[4) Operadores relacionais](#s2d) <br>\n",
    "\n",
    "[5) Operadores de Atribuição](#s2e) <br>\n",
    "\n",
    "[6) Extra](#s2f) <br>\n",
    "\n",
    "[7) Outras estruturas de Dados](#s2g)\n",
    "\n",
    "   [A) Listas](#g1) <br>\n",
    "   [B) Tuplas](#g2) <br>\n",
    "   [C) Dicionários](#g3) <br>\n",
    "   [D) Conjuntos](#g4) <br>"
   ]
  },
  {
   "cell_type": "markdown",
   "id": "45bb866f",
   "metadata": {},
   "source": [
    "<a id=\"s1\"><h1> A) Introdução do Jupyter-Notebook </h1></a>\n",
    "\n",
    "\n",
    "* Como abrir o jupyter?\n",
    "\n",
    "* Como criar notebook?\n",
    "\n",
    "* Como salvar?\n",
    "\n",
    "* Funcionalidades...\n",
    "\n",
    "\n",
    "<h3> Atalhos do teclado: </h3>\n",
    "\n",
    "Os seguintes atalhos estão implementados por default para célula no modo comando:\n",
    "\n",
    "**Ctrl-Enter:** executa a célula;\n",
    "\n",
    "**Shift-Enter:** executa a célula e cria uma nova célula abaixo no modo de comando;\n",
    "\n",
    "**Alt-Enter:** executa a célula e cria uma nova célula abaixo no modo de edição;\n",
    "\n",
    "**Y:** muda a célula para o tipo código;\n",
    "\n",
    "**M:** muda a célula para o tipo markdown;\n",
    "\n",
    "**A:** insere célula acima;\n",
    "\n",
    "**B:** insere célula abaixo;\n",
    "\n",
    "**X:** recorta a célula;\n",
    "\n",
    "**C:** copia a célula;\n",
    "\n",
    "**V:** cola a célula do clipboard abaixo;\n",
    "\n",
    "**shift-V:** cola a célula do clipboard acima;\n",
    "\n",
    "**D, D:** deleta uma célula;\n",
    "\n",
    "**Z:** desfaz o apagar célula; e\n",
    "\n",
    "**L:** ativa a enumeração das linhas.\n",
    "\n",
    "**Tab:** autocompleta durante a digitação; e\n",
    "\n",
    "**Shift-Tab:** abre uma minijanela com parte da documentação sobre a parte do código durante a documentação."
   ]
  },
  {
   "cell_type": "markdown",
   "id": "fc215fa0",
   "metadata": {},
   "source": [
    "<a id=\"s2\"><h1> B) O que é a linguagem de programação Python? </h1></a>\n",
    "\n",
    "* Python é uma linguagem de propósito geral de alto nível, multiparadigma, orientada a objetos e funcional. \n",
    "\n",
    "\n",
    "* Possui tipagem forte e dinâmica:\n",
    "\n",
    "\n",
    "    - Tipagem dinâmica: habilidade de escolher o tipo de dado de acordo com o valor atribuído à variável, ou seja, você não precisa dizer que `a = 25` vai ser uma variável do tipo inteiro.\n",
    "\n",
    "    - Fortemente tipada: significa que não realizam conversões automaticamente, Ex: `a = 25` e `b = 'Oi'` então `a+b = #TypeError: can only concatenate str (not \"int\") to str`, aqui ele não é capaz de converter o 25 (int) para str automaticamente para realizar a soma, para efetuar essa soma você precisa converter a=25 para str : a = '25' ai sim a+b será possível....\n",
    "\n",
    "\n",
    "* Permite fácil leitura do código e exige poucas linhas se comparado ao mesmo programa em outras linguagens. \n",
    "\n",
    "\n",
    "* Devido às suas características, ela é utilizada, principalmente, para processamento de textos, dados científicos e criação de API's para páginas dinâmicas para a web. (https://pt.wikipedia.org/wiki/Python)\n",
    "\n",
    "\n",
    "> A linguagem mais utilizada na ciência de dados é o Python devido a sua simplicidade e crescente número de bibliotecas voltadas para a análise de dados. "
   ]
  },
  {
   "cell_type": "markdown",
   "id": "74715475",
   "metadata": {},
   "source": [
    "***"
   ]
  },
  {
   "cell_type": "markdown",
   "id": "59f74b32",
   "metadata": {},
   "source": [
    "## Programação em Python"
   ]
  },
  {
   "cell_type": "markdown",
   "id": "331a7da0",
   "metadata": {},
   "source": [
    "<a id=\"s2a\"><h1> 1) Variáveis </h1></a>\n",
    "\n",
    "> Variáveis são formas de se armazenar dados dentro do código.\n",
    "\n",
    "Elas podem ser classificadas basicamente em 3 tipos:\n",
    "\n",
    "* int - Um número inteiro\n",
    "* float - Um numero decimal\n",
    "* string - Uma sequência de caracteres"
   ]
  },
  {
   "cell_type": "code",
   "execution_count": 3,
   "id": "946928b5",
   "metadata": {},
   "outputs": [
    {
     "name": "stdout",
     "output_type": "stream",
     "text": [
      "Variável do tipo:  <class 'int'>\n"
     ]
    }
   ],
   "source": [
    "# Exemplos:\n",
    "\n",
    "a = 3 # instancia a variável a, ou seja, atribui um valor para ela armazenar.\n",
    "print('Variável do tipo: ', type(a))  # função print irá retornar na tela as instruções passadas dentro dela"
   ]
  },
  {
   "cell_type": "code",
   "execution_count": 4,
   "id": "a1a7436e",
   "metadata": {},
   "outputs": [
    {
     "name": "stdout",
     "output_type": "stream",
     "text": [
      "Variável do tipo:  <class 'float'>\n"
     ]
    }
   ],
   "source": [
    "b = 156.25\n",
    "print('Variável do tipo: ', type(b))"
   ]
  },
  {
   "cell_type": "code",
   "execution_count": 5,
   "id": "aa2ccd47",
   "metadata": {},
   "outputs": [
    {
     "name": "stdout",
     "output_type": "stream",
     "text": [
      "Variável do tipo:  <class 'str'>\n"
     ]
    }
   ],
   "source": [
    "c = 'Ola'\n",
    "print('Variável do tipo: ', type(c))"
   ]
  },
  {
   "cell_type": "markdown",
   "id": "c67a2d15",
   "metadata": {},
   "source": [
    "> Em Python não é necessário declarar e nem definir o tipo das variáveis que serão usadas. A própria sintaxe da variavel identica o seu tipo. **Tipagem Dinâmica e Forte**\n",
    "\n",
    "\n",
    "Mais exemplos:"
   ]
  },
  {
   "cell_type": "code",
   "execution_count": 6,
   "id": "168824ff",
   "metadata": {},
   "outputs": [
    {
     "name": "stdout",
     "output_type": "stream",
     "text": [
      "Exemplo\n",
      "Vamos usar o pular uma linha (Enter) e \n",
      " continuar a frase na linha debaixo.\n"
     ]
    }
   ],
   "source": [
    "# String é um tipo de objeto formado por uma sequência imutável de caracteres que nos permite trabalhar com textos:\n",
    "\n",
    "palavra = 'Exemplo'\n",
    "print(palavra)\n",
    "\n",
    "frase = 'Vamos usar o pular uma linha (Enter) e \\n continuar a frase na linha debaixo.' # o \\n funciona como um Enter\n",
    "print(frase)"
   ]
  },
  {
   "cell_type": "code",
   "execution_count": 8,
   "id": "ab690dcc",
   "metadata": {},
   "outputs": [
    {
     "name": "stdout",
     "output_type": "stream",
     "text": [
      "Exemplo: Vamos usar o pular uma linha (Enter) e \n",
      " continuar a frase na linha debaixo. \n",
      "\n",
      "7\n",
      "6 \n",
      "\n",
      "E\n",
      "x\n",
      "e\n",
      "m\n",
      "p\n",
      "l\n",
      "o \n",
      "\n",
      "Exem\n",
      "mp\n",
      "lo\n"
     ]
    }
   ],
   "source": [
    "# Manipulando Strings:\n",
    "\n",
    "concatenar = palavra + ': ' + frase # juntar strings (soma strings)\n",
    "print(concatenar, '\\n')\n",
    "\n",
    "print(len(palavra)) # retorna quantas letras (caracteres) 'Exemplo' possui\n",
    "print(len(palavra)-1, '\\n') # retorna o último índice. Índice começa a ser contado do 0, ou seja, 'Exemplo' possui índices de 0 a 6.\n",
    "\n",
    "print(palavra[0]) #o [índice] retorna a letra que estiver naquela Posição.\n",
    "print(palavra[1])\n",
    "print(palavra[2])\n",
    "print(palavra[3])\n",
    "print(palavra[4])\n",
    "print(palavra[5])\n",
    "print(palavra[6], '\\n')\n",
    "print(palavra[0:4]) # retorna do índice 0 até 3-1\n",
    "print(palavra[3:5]) # retorna do índice 3 até 5-1\n",
    "print(palavra[5:]) # retorna do índice 5 até o final"
   ]
  },
  {
   "cell_type": "code",
   "execution_count": 12,
   "id": "85019e5b",
   "metadata": {},
   "outputs": [
    {
     "data": {
      "text/plain": [
       "'Exe!plo'"
      ]
     },
     "execution_count": 12,
     "metadata": {},
     "output_type": "execute_result"
    }
   ],
   "source": [
    "palavra = palavra.replace('M','!')\n",
    "palavra"
   ]
  },
  {
   "cell_type": "markdown",
   "id": "f740ab2a",
   "metadata": {},
   "source": [
    "***"
   ]
  },
  {
   "cell_type": "markdown",
   "id": "d06b5570",
   "metadata": {},
   "source": [
    "**Adicional:** Para que serve a função:\n",
    "\n",
    "- `print()` : retorna o conteúdo na tela\n",
    "- `type()` : retorna o tipo do objeto\n",
    "- `input()` : recebe um objeto através da tela"
   ]
  },
  {
   "cell_type": "code",
   "execution_count": 13,
   "id": "678eb2a0",
   "metadata": {},
   "outputs": [
    {
     "name": "stdout",
     "output_type": "stream",
     "text": [
      "Meu nome é Bruna\n",
      "Meu nome é Bruna\n",
      "Meu|nome|é|Bruna\n",
      "Meu nome é Bruna."
     ]
    }
   ],
   "source": [
    "print('Meu nome é Bruna')\n",
    "print('Meu', 'nome', 'é', 'Bruna')\n",
    "print('Meu', 'nome', 'é', 'Bruna', sep='|')\n",
    "print('Meu', 'nome', 'é', 'Bruna', sep=' ', end='.')"
   ]
  },
  {
   "cell_type": "code",
   "execution_count": 14,
   "id": "47c7e0e3",
   "metadata": {},
   "outputs": [
    {
     "name": "stdout",
     "output_type": "stream",
     "text": [
      "Eu trabalho na Falconi\n",
      "Eu trabalho \t na Falconi\n",
      "Eu trabalho \n",
      " na Falconi\n",
      " na Falconi \n"
     ]
    }
   ],
   "source": [
    "print('Eu trabalho na Falconi') \n",
    "print('Eu trabalho \\t na Falconi') # \\t = tab\n",
    "print('Eu trabalho \\n na Falconi') # \\n = enter\n",
    "print('Eu trabalho \\r na Falconi') # \\r = quebra da frase"
   ]
  },
  {
   "cell_type": "code",
   "execution_count": 15,
   "id": "a96bfba0",
   "metadata": {},
   "outputs": [
    {
     "ename": "SyntaxError",
     "evalue": "invalid syntax (2826977928.py, line 1)",
     "output_type": "error",
     "traceback": [
      "\u001b[1;36m  Cell \u001b[1;32mIn[15], line 1\u001b[1;36m\u001b[0m\n\u001b[1;33m    print('Eu trabalho na Falconi 'SA' ')\u001b[0m\n\u001b[1;37m                                   ^\u001b[0m\n\u001b[1;31mSyntaxError\u001b[0m\u001b[1;31m:\u001b[0m invalid syntax\n"
     ]
    }
   ],
   "source": [
    "print('Eu trabalho na Falconi 'SA' ')"
   ]
  },
  {
   "cell_type": "code",
   "execution_count": 16,
   "id": "83e64162",
   "metadata": {},
   "outputs": [
    {
     "name": "stdout",
     "output_type": "stream",
     "text": [
      "Eu trabalho na Falconi 'SA' \n"
     ]
    }
   ],
   "source": [
    "print('Eu trabalho na Falconi \\'SA\\' ')"
   ]
  },
  {
   "cell_type": "code",
   "execution_count": 34,
   "id": "4ebbf637",
   "metadata": {},
   "outputs": [
    {
     "name": "stdout",
     "output_type": "stream",
     "text": [
      "Para printar o caracter especial: \"\\\"\n"
     ]
    }
   ],
   "source": [
    "print('Para printar o caracter especial: \"\\\\\"')"
   ]
  },
  {
   "cell_type": "code",
   "execution_count": 35,
   "id": "92464d84",
   "metadata": {},
   "outputs": [
    {
     "data": {
      "text/plain": [
       "str"
      ]
     },
     "execution_count": 35,
     "metadata": {},
     "output_type": "execute_result"
    }
   ],
   "source": [
    "type('a')"
   ]
  },
  {
   "cell_type": "code",
   "execution_count": 36,
   "id": "b0d71b9c",
   "metadata": {},
   "outputs": [
    {
     "name": "stdout",
     "output_type": "stream",
     "text": [
      "<class 'str'>\n"
     ]
    }
   ],
   "source": [
    "print(type('a'))"
   ]
  },
  {
   "cell_type": "code",
   "execution_count": 48,
   "id": "a8a43f5b",
   "metadata": {},
   "outputs": [
    {
     "name": "stdout",
     "output_type": "stream",
     "text": [
      "Variável passada pelo usuário:  1 ( <class 'str'> )\n"
     ]
    }
   ],
   "source": [
    "var1 = input()\n",
    "print('Variável passada pelo usuário: ', var1, '(', type(var1), ')')"
   ]
  },
  {
   "cell_type": "code",
   "execution_count": 49,
   "id": "982a64a4",
   "metadata": {},
   "outputs": [
    {
     "name": "stdout",
     "output_type": "stream",
     "text": [
      "Variável passada pelo usuário:  a ( <class 'str'> )\n"
     ]
    }
   ],
   "source": [
    "var1 = input()\n",
    "print('Variável passada pelo usuário: ', var1, '(', type(var1), ')')"
   ]
  },
  {
   "cell_type": "code",
   "execution_count": 50,
   "id": "58bdfceb",
   "metadata": {},
   "outputs": [
    {
     "name": "stdout",
     "output_type": "stream",
     "text": [
      "Variável passada pelo usuário:  Bruna ( <class 'str'> )\n"
     ]
    }
   ],
   "source": [
    "var1 = input('Insira uma variavel qualquer: ')\n",
    "print('Variável passada pelo usuário: ', var1, '(', type(var1), ')')"
   ]
  },
  {
   "cell_type": "code",
   "execution_count": 52,
   "id": "d3c9ab3f",
   "metadata": {},
   "outputs": [
    {
     "name": "stdout",
     "output_type": "stream",
     "text": [
      "Variável passada pelo usuário:  Teste ( <class 'str'> )\n"
     ]
    }
   ],
   "source": [
    "var1 = input('Insira uma variavel do tipo texto: ')\n",
    "print('Variável passada pelo usuário: ', var1, '(', type(var1), ')')"
   ]
  },
  {
   "cell_type": "code",
   "execution_count": 53,
   "id": "6781a496",
   "metadata": {},
   "outputs": [
    {
     "name": "stdout",
     "output_type": "stream",
     "text": [
      "Variável passada pelo usuário:  13 ( <class 'int'> )\n"
     ]
    }
   ],
   "source": [
    "var1 = int(input('Insira uma variavel do tipo inteiro: '))\n",
    "print('Variável passada pelo usuário: ', var1, '(', type(var1), ')')"
   ]
  },
  {
   "cell_type": "code",
   "execution_count": 54,
   "id": "7b5370b3",
   "metadata": {},
   "outputs": [
    {
     "name": "stdout",
     "output_type": "stream",
     "text": [
      "Variável passada pelo usuário:  2.6 ( <class 'float'> )\n"
     ]
    }
   ],
   "source": [
    "var1 = float(input('Insira uma variavel do tipo float: '))\n",
    "print('Variável passada pelo usuário: ', var1, '(', type(var1), ')')"
   ]
  },
  {
   "cell_type": "markdown",
   "id": "aa26b5b7",
   "metadata": {},
   "source": [
    "***"
   ]
  },
  {
   "cell_type": "markdown",
   "id": "003f9d3c",
   "metadata": {},
   "source": [
    "### Exercício:"
   ]
  },
  {
   "cell_type": "code",
   "execution_count": 44,
   "id": "97cfe15b",
   "metadata": {},
   "outputs": [
    {
     "name": "stdout",
     "output_type": "stream",
     "text": [
      "A linguagem mais utilizada na ciência de dados é o Python. Python possui Tipagem Dinâmica e Forte.     Variáveis são formas de se armazenar dados dentro do código. String é um tipo de objeto formado por uma         sequência imutável de caracteres que nos permite trabalhar com textos.\n"
     ]
    }
   ],
   "source": [
    "## Considere o seguinte texto:\n",
    "\n",
    "texto = 'A linguagem mais utilizada na ciência de dados é o Python. Python possui Tipagem Dinâmica e Forte. \\\n",
    "    Variáveis são formas de se armazenar dados dentro do código. String é um tipo de objeto formado por uma \\\n",
    "        sequência imutável de caracteres que nos permite trabalhar com textos.'\n",
    "\n",
    "print(texto)"
   ]
  },
  {
   "cell_type": "code",
   "execution_count": 45,
   "id": "90fa6c27",
   "metadata": {},
   "outputs": [
    {
     "name": "stdout",
     "output_type": "stream",
     "text": [
      "A linguagem mais utilizada na ciência de dados é o Python.\n",
      "Python possui Tipagem Dinâmica e Forte.\n",
      "Variáveis são formas de se armazenar dados dentro do código.\n",
      "String é um tipo de objeto formado por uma sequência imutável de caracteres que nos permite trabalhar com textos.\n"
     ]
    }
   ],
   "source": [
    "## a) Formate a apresentação do texto na tela considerando uma frase por linha:\n",
    "\n",
    "## TO DO\n",
    "..."
   ]
  },
  {
   "cell_type": "markdown",
   "id": "6e0cc563",
   "metadata": {},
   "source": [
    "<details>\n",
    "    <summary>Clique aqui para ver a solução:</summary>\n",
    "   \n",
    "```python\n",
    "texto = 'A linguagem mais utilizada na ciência de dados é o Python.\\nPython possui Tipagem Dinâmica e Forte.\\nVariáveis são formas de se armazenar dados dentro do código.\\nString é um tipo de objeto formado por uma sequência imutável de caracteres que nos permite trabalhar com textos.'\n",
    "\n",
    "print(texto)\n",
    "```\n",
    "</details>"
   ]
  },
  {
   "cell_type": "code",
   "execution_count": null,
   "id": "9c62e1e2",
   "metadata": {},
   "outputs": [],
   "source": [
    "## b) Interaja com o usuário e receba duas variáveis `nome` e `idade`, logo printe na tela de forma organizada as informações recebidas.\n",
    "\n",
    "## TO DO\n",
    "..."
   ]
  },
  {
   "cell_type": "markdown",
   "id": "a7f5465a",
   "metadata": {},
   "source": [
    "<details>\n",
    "    <summary>Clique aqui para ver a solução:</summary>\n",
    "   \n",
    "```python\n",
    "nome = input('Digite seu nome: ')\n",
    "idade = input('Agora digite sua idade: ')\n",
    "\n",
    "print('Seu nome é', nome, 'e você tem', idade, 'de idade.')\n",
    "```\n",
    "</details>"
   ]
  },
  {
   "cell_type": "code",
   "execution_count": null,
   "id": "008523d2",
   "metadata": {},
   "outputs": [],
   "source": [
    "## c) Crie uma interação que seja capaz de receber apenas números inteiros. Printe o numero e o tipo.\n",
    "\n",
    "## TO DO\n",
    "..."
   ]
  },
  {
   "cell_type": "markdown",
   "id": "c0680bff",
   "metadata": {},
   "source": [
    "<details>\n",
    "    <summary>Clique aqui para ver a solução:</summary>\n",
    "   \n",
    "```python\n",
    "numero = int(input('Digite apenas numero inteiro: '))\n",
    "\n",
    "print('Número:', numero, type(numero))\n",
    "```\n",
    "</details>"
   ]
  },
  {
   "cell_type": "code",
   "execution_count": 64,
   "id": "cbc01111",
   "metadata": {},
   "outputs": [],
   "source": [
    "## c.1) O que acontece se o usuário digitar uma string ao invés de um inteiro? E se for um float?\n",
    "\n",
    "\n",
    "## c.2) Ajuste o código para que o usuário possa passar tanto inteiro quanto float.\n",
    "\n",
    "## TO DO\n",
    "..."
   ]
  },
  {
   "cell_type": "markdown",
   "id": "6ee844d4",
   "metadata": {},
   "source": [
    "<details>\n",
    "    <summary>Clique aqui para ver a solução:</summary>\n",
    "   \n",
    "```python\n",
    "numero = float(input('Digite apenas numeros (inteiro ou float): '))\n",
    "\n",
    "print('Número:', numero, type(numero))\n",
    "```\n",
    "</details>"
   ]
  },
  {
   "cell_type": "markdown",
   "id": "5509be3e",
   "metadata": {},
   "source": [
    "<a id=\"s2b\"><h1> 2) Operadores aritméticos: </h1></a>\n",
    "\n",
    "- Os operadores aritméticos são responsáveis por realizar as operações matemáticas básicas.\n",
    "- São eles:\n",
    "\n",
    "<img src=\"imgs/aritmeticos.PNG\" width=\"600\" height=\"300\">"
   ]
  },
  {
   "cell_type": "code",
   "execution_count": 17,
   "id": "c9feb560",
   "metadata": {},
   "outputs": [
    {
     "data": {
      "text/plain": [
       "13"
      ]
     },
     "execution_count": 17,
     "metadata": {},
     "output_type": "execute_result"
    }
   ],
   "source": [
    "# Soma\n",
    "5+8"
   ]
  },
  {
   "cell_type": "code",
   "execution_count": 18,
   "id": "88bc3888",
   "metadata": {},
   "outputs": [
    {
     "data": {
      "text/plain": [
       "37"
      ]
     },
     "execution_count": 18,
     "metadata": {},
     "output_type": "execute_result"
    }
   ],
   "source": [
    "# Subtração\n",
    "46-9"
   ]
  },
  {
   "cell_type": "code",
   "execution_count": 19,
   "id": "35e6f4e6",
   "metadata": {},
   "outputs": [
    {
     "data": {
      "text/plain": [
       "504"
      ]
     },
     "execution_count": 19,
     "metadata": {},
     "output_type": "execute_result"
    }
   ],
   "source": [
    "# Multiplicação\n",
    "6*84"
   ]
  },
  {
   "cell_type": "code",
   "execution_count": 20,
   "id": "402b52b8",
   "metadata": {},
   "outputs": [
    {
     "data": {
      "text/plain": [
       "18.24"
      ]
     },
     "execution_count": 20,
     "metadata": {},
     "output_type": "execute_result"
    }
   ],
   "source": [
    "# Divisão \n",
    "456/25"
   ]
  },
  {
   "cell_type": "code",
   "execution_count": 21,
   "id": "163b4fc2",
   "metadata": {},
   "outputs": [
    {
     "data": {
      "text/plain": [
       "18"
      ]
     },
     "execution_count": 21,
     "metadata": {},
     "output_type": "execute_result"
    }
   ],
   "source": [
    "456//25 # divisão inteira"
   ]
  },
  {
   "cell_type": "code",
   "execution_count": 9,
   "id": "57541f7a",
   "metadata": {},
   "outputs": [
    {
     "data": {
      "text/plain": [
       "6"
      ]
     },
     "execution_count": 9,
     "metadata": {},
     "output_type": "execute_result"
    }
   ],
   "source": [
    "456%25 # retorna o resto da divisão: 18*25=450 | 456-450 = 6"
   ]
  },
  {
   "cell_type": "code",
   "execution_count": 10,
   "id": "484202da",
   "metadata": {},
   "outputs": [
    {
     "data": {
      "text/plain": [
       "729"
      ]
     },
     "execution_count": 10,
     "metadata": {},
     "output_type": "execute_result"
    }
   ],
   "source": [
    "# Potenciação\n",
    "9**3 # 9*9*9"
   ]
  },
  {
   "cell_type": "code",
   "execution_count": 11,
   "id": "c81d5239",
   "metadata": {},
   "outputs": [
    {
     "data": {
      "text/plain": [
       "137.5"
      ]
     },
     "execution_count": 11,
     "metadata": {},
     "output_type": "execute_result"
    }
   ],
   "source": [
    "# Porcentagem\n",
    "# 25% de 550:\n",
    "550 * 0.25 # pois 25% = 25/100"
   ]
  },
  {
   "cell_type": "markdown",
   "id": "2c0714e3",
   "metadata": {},
   "source": [
    "**Posso fazer operações com str, int e float ao mesmo tempo?**"
   ]
  },
  {
   "cell_type": "code",
   "execution_count": 37,
   "id": "ee3a08b0",
   "metadata": {},
   "outputs": [],
   "source": [
    "a = 5\n",
    "b = 3.5\n",
    "c = 'string'"
   ]
  },
  {
   "cell_type": "code",
   "execution_count": 38,
   "id": "1e718c36",
   "metadata": {},
   "outputs": [
    {
     "name": "stdout",
     "output_type": "stream",
     "text": [
      "soma int e float:  8.5\n",
      "subtrai int e float:  1.5\n",
      "multiplica ints:  25\n",
      "multiplica floats:  12.25\n",
      "divide int por float:  1.4285714285714286\n",
      "divide float por int:  0.7\n"
     ]
    }
   ],
   "source": [
    "print('soma int e float: ', a+b) # retorna um float\n",
    "print('subtrai int e float: ', a-b) # retorna um float\n",
    "print('multiplica ints: ', a*a) # retorna um int\n",
    "print('multiplica floats: ', b*b) # retorna um float\n",
    "print('divide int por float: ', a/b) # retorna um float\n",
    "print('divide float por int: ', b/a) # retorna um float"
   ]
  },
  {
   "cell_type": "markdown",
   "id": "e348c1cd",
   "metadata": {},
   "source": [
    "> Todas as operações entre int e float retornam um float!"
   ]
  },
  {
   "cell_type": "code",
   "execution_count": 39,
   "id": "f68aa318",
   "metadata": {},
   "outputs": [
    {
     "name": "stdout",
     "output_type": "stream",
     "text": [
      "soma strings:  stringstring\n",
      "multiplica str por int:  stringstringstringstringstring\n"
     ]
    }
   ],
   "source": [
    "print('soma strings: ', c+c)\n",
    "print('multiplica str por int: ', c*a)"
   ]
  },
  {
   "cell_type": "code",
   "execution_count": 40,
   "id": "5a555a00",
   "metadata": {},
   "outputs": [
    {
     "ename": "TypeError",
     "evalue": "can only concatenate str (not \"int\") to str",
     "output_type": "error",
     "traceback": [
      "\u001b[1;31m---------------------------------------------------------------------------\u001b[0m",
      "\u001b[1;31mTypeError\u001b[0m                                 Traceback (most recent call last)",
      "Cell \u001b[1;32mIn[40], line 1\u001b[0m\n\u001b[1;32m----> 1\u001b[0m \u001b[38;5;28mprint\u001b[39m(\u001b[38;5;124m'\u001b[39m\u001b[38;5;124msoma string e int: \u001b[39m\u001b[38;5;124m'\u001b[39m, \u001b[43mc\u001b[49m\u001b[38;5;241;43m+\u001b[39;49m\u001b[43ma\u001b[49m) \u001b[38;5;66;03m# retorna erro: não pode concatenar str com int\u001b[39;00m\n",
      "\u001b[1;31mTypeError\u001b[0m: can only concatenate str (not \"int\") to str"
     ]
    }
   ],
   "source": [
    "print('soma string e int: ', c+a) # retorna erro: não pode concatenar str com int"
   ]
  },
  {
   "cell_type": "code",
   "execution_count": 18,
   "id": "de07f80a",
   "metadata": {},
   "outputs": [
    {
     "ename": "TypeError",
     "evalue": "can't multiply sequence by non-int of type 'float'",
     "output_type": "error",
     "traceback": [
      "\u001b[1;31m-----------------------------------------------------------\u001b[0m",
      "\u001b[1;31mTypeError\u001b[0m                 Traceback (most recent call last)",
      "\u001b[1;32m<ipython-input-18-3053fc0c026c>\u001b[0m in \u001b[0;36m<module>\u001b[1;34m\u001b[0m\n\u001b[1;32m----> 1\u001b[1;33m \u001b[0mprint\u001b[0m\u001b[1;33m(\u001b[0m\u001b[1;34m'multiplica str por float: '\u001b[0m\u001b[1;33m,\u001b[0m \u001b[0mc\u001b[0m\u001b[1;33m*\u001b[0m\u001b[0mb\u001b[0m\u001b[1;33m)\u001b[0m\u001b[1;33m\u001b[0m\u001b[1;33m\u001b[0m\u001b[0m\n\u001b[0m",
      "\u001b[1;31mTypeError\u001b[0m: can't multiply sequence by non-int of type 'float'"
     ]
    }
   ],
   "source": [
    "print('multiplica str por float: ', c*b)"
   ]
  },
  {
   "cell_type": "code",
   "execution_count": 19,
   "id": "e1f1304b",
   "metadata": {},
   "outputs": [
    {
     "ename": "TypeError",
     "evalue": "can only concatenate str (not \"float\") to str",
     "output_type": "error",
     "traceback": [
      "\u001b[1;31m-----------------------------------------------------------\u001b[0m",
      "\u001b[1;31mTypeError\u001b[0m                 Traceback (most recent call last)",
      "\u001b[1;32m<ipython-input-19-97e946966019>\u001b[0m in \u001b[0;36m<module>\u001b[1;34m\u001b[0m\n\u001b[1;32m----> 1\u001b[1;33m \u001b[0mprint\u001b[0m\u001b[1;33m(\u001b[0m\u001b[1;34m'soma string e float: '\u001b[0m\u001b[1;33m,\u001b[0m \u001b[0mc\u001b[0m\u001b[1;33m+\u001b[0m\u001b[0mb\u001b[0m\u001b[1;33m)\u001b[0m \u001b[1;31m# retorna erro: não pode concatenar str com float\u001b[0m\u001b[1;33m\u001b[0m\u001b[1;33m\u001b[0m\u001b[0m\n\u001b[0m",
      "\u001b[1;31mTypeError\u001b[0m: can only concatenate str (not \"float\") to str"
     ]
    }
   ],
   "source": [
    "print('soma string e float: ', c+b) # retorna erro: não pode concatenar str com float"
   ]
  },
  {
   "cell_type": "code",
   "execution_count": 20,
   "id": "9d008bc1",
   "metadata": {},
   "outputs": [
    {
     "ename": "TypeError",
     "evalue": "unsupported operand type(s) for /: 'str' and 'int'",
     "output_type": "error",
     "traceback": [
      "\u001b[1;31m-----------------------------------------------------------\u001b[0m",
      "\u001b[1;31mTypeError\u001b[0m                 Traceback (most recent call last)",
      "\u001b[1;32m<ipython-input-20-c9807e595f75>\u001b[0m in \u001b[0;36m<module>\u001b[1;34m\u001b[0m\n\u001b[1;32m----> 1\u001b[1;33m \u001b[0mprint\u001b[0m\u001b[1;33m(\u001b[0m\u001b[1;34m'divide str por int: '\u001b[0m\u001b[1;33m,\u001b[0m \u001b[0mc\u001b[0m\u001b[1;33m/\u001b[0m\u001b[0ma\u001b[0m\u001b[1;33m)\u001b[0m \u001b[1;31m# não pode usar esse operador entre esses tipos.\u001b[0m\u001b[1;33m\u001b[0m\u001b[1;33m\u001b[0m\u001b[0m\n\u001b[0m",
      "\u001b[1;31mTypeError\u001b[0m: unsupported operand type(s) for /: 'str' and 'int'"
     ]
    }
   ],
   "source": [
    "print('divide str por int: ', c/a) # não pode usar esse operador entre esses tipos."
   ]
  },
  {
   "cell_type": "markdown",
   "id": "73edee90",
   "metadata": {},
   "source": [
    "# Agora é hora de parar e refletir um pouco sobre tudo que foi visto até aqui\n",
    "\n",
    "### Qual a sua conclusão sobre operações envolvendo strings?"
   ]
  },
  {
   "cell_type": "markdown",
   "id": "e0d715a0",
   "metadata": {},
   "source": [
    "**Digite sua resposta aqui:** (clique duas vezes na celula para editar)\n",
    "\n",
    "- "
   ]
  },
  {
   "cell_type": "markdown",
   "id": "09737e5e",
   "metadata": {},
   "source": [
    "<a id=\"s2c\"><h1> 3) Operadores lógicos: </h1></a>\n",
    "\n",
    "- Os operadores lógicos são muito utilizados em estruturas condicionais e estruturas de repetição. \n",
    "- Esses operadores avaliam expressões lógicas e retornam Verdadeiro ou Falso.\n",
    "- São eles:\n",
    "\n",
    "<img src=\"imgs/logicos.PNG\" width=\"600\" height=\"300\">"
   ]
  },
  {
   "cell_type": "code",
   "execution_count": 41,
   "id": "db38a9f4",
   "metadata": {},
   "outputs": [
    {
     "data": {
      "text/plain": [
       "True"
      ]
     },
     "execution_count": 41,
     "metadata": {},
     "output_type": "execute_result"
    }
   ],
   "source": [
    "# confere se o valor atribuído a variável var não está presente na lista\n",
    "var = 5\n",
    "var not in [1,2,3,4] \n",
    "\n",
    "# retorna True porque é verdade que var não está em [1,2,3,4]"
   ]
  },
  {
   "cell_type": "code",
   "execution_count": 42,
   "id": "3fa5200e",
   "metadata": {},
   "outputs": [
    {
     "data": {
      "text/plain": [
       "True"
      ]
     },
     "execution_count": 42,
     "metadata": {},
     "output_type": "execute_result"
    }
   ],
   "source": [
    "# confere se var não está em [1,2,3,4] E também não está em [6,7]\n",
    "var not in [1,2,3,4] and var not in [6,7] \n",
    "\n",
    "# primeira checagem é True e a segunda também é True então retorna True"
   ]
  },
  {
   "cell_type": "code",
   "execution_count": 43,
   "id": "7f1a1e21",
   "metadata": {},
   "outputs": [
    {
     "data": {
      "text/plain": [
       "False"
      ]
     },
     "execution_count": 43,
     "metadata": {},
     "output_type": "execute_result"
    }
   ],
   "source": [
    "# confere se var não está em [1,2,3,4] E tambem não está em [5,6,7]\n",
    "var not in [1,2,3,4] and var not in [5,6,7]\n",
    "\n",
    "# primeira checagem é True e a segunda é False então retorna False porque as duas condições precisam ser satisfeitas."
   ]
  },
  {
   "cell_type": "code",
   "execution_count": 45,
   "id": "a485ef1e",
   "metadata": {},
   "outputs": [
    {
     "data": {
      "text/plain": [
       "True"
      ]
     },
     "execution_count": 45,
     "metadata": {},
     "output_type": "execute_result"
    }
   ],
   "source": [
    "# confere se var não está em [1,2,3,4] OU não está em [5,6,7]\n",
    "var not in [1,2,3,4] or var not in [5,6,7]\n",
    "\n",
    "# primeira checagem é True e a segunda é False então retorna True.\n",
    "# Aqui apenas uma condição pode tem que ser satisfeita para retornar True."
   ]
  },
  {
   "cell_type": "markdown",
   "id": "15fc6aaa",
   "metadata": {},
   "source": [
    "<a id=\"s2d\"><h1> 4) Operadores relacionais: </h1></a>\n",
    "\n",
    "- Os operadores relacionais avaliam expressões e retornam Verdadeiro ou Falso, assim como os lógicos. \n",
    "- Porém, os relacionais são responsáveis por operações de comparação de magnitude.\n",
    "- São eles:\n",
    "\n",
    "<img src=\"imgs/relacionais.PNG\" width=\"600\" height=\"300\">"
   ]
  },
  {
   "cell_type": "code",
   "execution_count": 46,
   "id": "21daa416",
   "metadata": {},
   "outputs": [
    {
     "data": {
      "text/plain": [
       "False"
      ]
     },
     "execution_count": 46,
     "metadata": {},
     "output_type": "execute_result"
    }
   ],
   "source": [
    "3 == 5"
   ]
  },
  {
   "cell_type": "code",
   "execution_count": 47,
   "id": "05545675",
   "metadata": {},
   "outputs": [
    {
     "data": {
      "text/plain": [
       "True"
      ]
     },
     "execution_count": 47,
     "metadata": {},
     "output_type": "execute_result"
    }
   ],
   "source": [
    "'a' != 'b'"
   ]
  },
  {
   "cell_type": "code",
   "execution_count": 48,
   "id": "fa3ec114",
   "metadata": {},
   "outputs": [
    {
     "data": {
      "text/plain": [
       "True"
      ]
     },
     "execution_count": 48,
     "metadata": {},
     "output_type": "execute_result"
    }
   ],
   "source": [
    "6.2 > 2"
   ]
  },
  {
   "cell_type": "code",
   "execution_count": 49,
   "id": "da1d5d74",
   "metadata": {},
   "outputs": [
    {
     "data": {
      "text/plain": [
       "False"
      ]
     },
     "execution_count": 49,
     "metadata": {},
     "output_type": "execute_result"
    }
   ],
   "source": [
    "3.4 <= 3"
   ]
  },
  {
   "cell_type": "markdown",
   "id": "f82c4789",
   "metadata": {},
   "source": [
    "<a id=\"s2e\"><h1> 5) Operadores de Atribuição </h1></a>\n",
    "\n",
    "- Os operadores de atribuição realizam a ação de alocar valores para variáveis. \n",
    "- Podem ser usados para realizar operações aritméticas e alocar o resultado simultaneamente.\n",
    "- São eles:\t\n",
    "\n",
    "<img src=\"imgs/atribuicao.PNG\" width=\"600\" height=\"300\">"
   ]
  },
  {
   "cell_type": "code",
   "execution_count": 58,
   "id": "8ccd2798",
   "metadata": {},
   "outputs": [
    {
     "data": {
      "text/plain": [
       "5"
      ]
     },
     "execution_count": 58,
     "metadata": {},
     "output_type": "execute_result"
    }
   ],
   "source": [
    "var = 5 # atribui-se o valor 5 a var\n",
    "var"
   ]
  },
  {
   "cell_type": "code",
   "execution_count": 65,
   "id": "67c8c696-2231-4a12-b886-65a9d203d49c",
   "metadata": {},
   "outputs": [
    {
     "data": {
      "text/plain": [
       "5"
      ]
     },
     "execution_count": 65,
     "metadata": {},
     "output_type": "execute_result"
    }
   ],
   "source": [
    "var2 = var\n",
    "var2"
   ]
  },
  {
   "cell_type": "code",
   "execution_count": null,
   "id": "248fb1b3-3b70-4576-a8ad-c1485796ac86",
   "metadata": {},
   "outputs": [],
   "source": [
    "var = var + 9"
   ]
  },
  {
   "cell_type": "code",
   "execution_count": 57,
   "id": "5772e10b",
   "metadata": {},
   "outputs": [
    {
     "data": {
      "text/plain": [
       "32"
      ]
     },
     "execution_count": 57,
     "metadata": {},
     "output_type": "execute_result"
    }
   ],
   "source": [
    "var += 9 # soma-se 9 ao valor de var\n",
    "var"
   ]
  },
  {
   "cell_type": "code",
   "execution_count": 52,
   "id": "3ff63de2",
   "metadata": {},
   "outputs": [
    {
     "data": {
      "text/plain": [
       "13"
      ]
     },
     "execution_count": 52,
     "metadata": {},
     "output_type": "execute_result"
    }
   ],
   "source": [
    "var -= 1 # subtrai 1 do valor atual de var\n",
    "var"
   ]
  },
  {
   "cell_type": "code",
   "execution_count": 53,
   "id": "76be17e5",
   "metadata": {},
   "outputs": [
    {
     "data": {
      "text/plain": [
       "26"
      ]
     },
     "execution_count": 53,
     "metadata": {},
     "output_type": "execute_result"
    }
   ],
   "source": [
    "var *= 2 # multiplica por 2 o valor atual de var\n",
    "var"
   ]
  },
  {
   "cell_type": "code",
   "execution_count": 33,
   "id": "d61e2c89",
   "metadata": {},
   "outputs": [
    {
     "data": {
      "text/plain": [
       "8.666666666666666"
      ]
     },
     "execution_count": 33,
     "metadata": {},
     "output_type": "execute_result"
    }
   ],
   "source": [
    "var /= 3 # divide por 3 o valor atual de var\n",
    "var"
   ]
  },
  {
   "cell_type": "code",
   "execution_count": 34,
   "id": "fa4b10b1",
   "metadata": {},
   "outputs": [
    {
     "data": {
      "text/plain": [
       "3.0"
      ]
     },
     "execution_count": 34,
     "metadata": {},
     "output_type": "execute_result"
    }
   ],
   "source": [
    "var //= 2.5 # atualiza o valor de var para o resultado da divisão inteira do valor atual por 2.5\n",
    "var"
   ]
  },
  {
   "cell_type": "code",
   "execution_count": 35,
   "id": "42ec91e9",
   "metadata": {},
   "outputs": [
    {
     "data": {
      "text/plain": [
       "3.0"
      ]
     },
     "execution_count": 35,
     "metadata": {},
     "output_type": "execute_result"
    }
   ],
   "source": [
    "var %= 4 # atualiza o valor de var para o resto da divisão do valor atual por 7\n",
    "var"
   ]
  },
  {
   "cell_type": "code",
   "execution_count": 36,
   "id": "8a7a4793",
   "metadata": {},
   "outputs": [
    {
     "data": {
      "text/plain": [
       "27.0"
      ]
     },
     "execution_count": 36,
     "metadata": {},
     "output_type": "execute_result"
    }
   ],
   "source": [
    "var **= 3 # atualiza o valor de var para o resultado da potenciação do valor atual \n",
    "var"
   ]
  },
  {
   "cell_type": "markdown",
   "id": "771156f4",
   "metadata": {},
   "source": [
    "# Agora é hora de parar e refletir um pouco sobre tudo que foi visto até aqui\n",
    "\n",
    "### Quais as suas conclusões sobre todos os tipos de operadores vistos aqui?"
   ]
  },
  {
   "cell_type": "markdown",
   "id": "9592b423",
   "metadata": {},
   "source": [
    "**Digite sua resposta aqui:** (clique duas vezes na celula para editar)\n",
    "\n",
    "- "
   ]
  },
  {
   "cell_type": "markdown",
   "id": "f0d1c6c6",
   "metadata": {},
   "source": [
    "<a id=\"s2f\"><h1> 6) Extra: </h1></a>\n",
    "\n",
    "**Formatação de variáveis dentro do print**\n",
    "\n",
    "- _%s_ - Serve para colocar strings em uma frase;\n",
    "- _%i_ - Serve para colocar números inteiros em uma frase;\n",
    "- _%f_ - Serve para colocar floats em uma frase. Os floats também podem ser formatados.\n",
    "    * **%.Xf** : basta substituir o X pela quantidade de casas decimais desejadas:\n",
    "    * **%.1f** = uma casa decimal\n",
    "    * **%.4f** = quatro casas decimais"
   ]
  },
  {
   "cell_type": "code",
   "execution_count": 66,
   "id": "29366225",
   "metadata": {},
   "outputs": [
    {
     "name": "stdout",
     "output_type": "stream",
     "text": [
      "Fui ao mercado comprar chocolates e balas \n",
      "\n",
      "Comprei 5 chocolates e 36 balas. \n",
      "\n",
      "Preço de cada chocolate: 3.5 \n",
      "Preço de cada bala: 0.05 \n",
      "\n",
      "Total gasto com chocolates = 17.50 \n",
      "Total gasto com balas = 1.8 \n",
      "\n",
      "Gastei um total de:  19.3 reais\n"
     ]
    }
   ],
   "source": [
    "# instanciando variáveis:\n",
    "\n",
    "item1 = 'chocolates'\n",
    "item2 = 'balas'\n",
    "quantidade1 = 5\n",
    "quantidade2 = 36\n",
    "preco1 = 3.50\n",
    "preco2 = 0.05\n",
    "\n",
    "# Realizando operações:\n",
    "\n",
    "total1 = quantidade1 * preco1\n",
    "total2 = quantidade2 * preco2\n",
    "total = total1 + total2\n",
    "\n",
    "print('Fui ao mercado comprar %s e %s \\n' % (item1, item2))\n",
    "print('Comprei %i %s e %i %s. \\n' % (quantidade1, item1, quantidade2, item2))\n",
    "print('Preço de cada {}: {} \\nPreço de cada {}: {} \\n'.format(item1[:9], preco1, item2[:4], preco2))\n",
    "print('Total gasto com chocolates = %.2f' % total1, '\\nTotal gasto com balas = {} \\n'.format(total2))\n",
    "print('Gastei um total de: ', total, 'reais')"
   ]
  },
  {
   "cell_type": "markdown",
   "id": "90176b73",
   "metadata": {},
   "source": [
    "<a id=\"s2g\"><h1> 7) Outras estruturas de Dados </h1></a>\n",
    "\n",
    "- [<h4> A) Listas </h4>](#g1)\n",
    "- [<h4> B) Tuplas </h4>](#g2)\n",
    "- [<h4> C) Dicionários </h4>](#g3)\n",
    "- [<h4> D) Conjuntos </h4>](#g4)"
   ]
  },
  {
   "cell_type": "markdown",
   "id": "0a85fb0c",
   "metadata": {},
   "source": [
    "<a id=\"g1\"><h3> A) Listas: </h3></a>\n",
    "\n",
    "São estruturas ordenadas, mutáveis e heterogêneas, pois cada valor tem seu índice na ordem que estão armazenados, é possível alterar os valores e os valores podem ser de tipos diferentes.\n",
    "\n",
    "- comando básico:\n",
    "\n",
    "_lista = [elementos]_\n",
    "\n",
    "ou pode-se usar a função list:\n",
    "\n",
    "_lista = list([elementos])_\n",
    "\n",
    "para lista vazia:\n",
    "_lista = []_ ou _lista = list()_"
   ]
  },
  {
   "cell_type": "code",
   "execution_count": 67,
   "id": "13c45ee5",
   "metadata": {},
   "outputs": [
    {
     "name": "stdout",
     "output_type": "stream",
     "text": [
      "[1, 2, 3, 4, 5, 6] \n",
      "\n",
      "['Joao', 'Paulo', 'Maria', 'Paulo', 'Joana'] \n",
      "\n",
      "[0.2, 0.4, 0.6, 0.8] \n",
      "\n",
      "[5, 0.5, 'Joao', 0.1, 'Maria', 8]\n"
     ]
    }
   ],
   "source": [
    "# Criando listas:\n",
    "\n",
    "lista_num = [1,2,3,4,5,6] # apenas com numeros inteiros\n",
    "print(lista_num, '\\n')\n",
    "\n",
    "lista_str = ['Joao', 'Paulo', 'Maria', 'Paulo', 'Joana'] # apenas com strings\n",
    "print(lista_str, '\\n')\n",
    "\n",
    "lista_float = [0.2, 0.4, 0.6, 0.8] # apenas com floats\n",
    "print(lista_float, '\\n')\n",
    "\n",
    "lista_mista = [5, 0.5, 'Joao', 0.1, 'Maria', 8] # mista\n",
    "print(lista_mista)"
   ]
  },
  {
   "cell_type": "code",
   "execution_count": 68,
   "id": "82da3971",
   "metadata": {},
   "outputs": [
    {
     "name": "stdout",
     "output_type": "stream",
     "text": [
      "Tamanho da lista_num:  6\n",
      "Tamanho da lista_str:  5\n",
      "Tamanho da lista_float:  4\n",
      "Tamanho da lista_mista:  6 \n",
      "\n",
      "Em qual indice a palavra Paulo esta?\n",
      "1\n",
      "Em qual indice o numero 0.1 esta?\n",
      "3 \n",
      "\n",
      "lista original:  [1, 2, 3, 4, 5, 6]\n",
      "lista com elemento adicionado:  [1, 2, 3, 4, 5, 6, 25] \n",
      "\n",
      "lista mista original:  [5, 0.5, 'Joao', 0.1, 'Maria', 8]\n",
      "lista mista modificada:  [5, 0.5, 'Joao', 0.1, 'Maria', 8, 6, 5, 4, 1, 2, 3, 4, 5, 6, 25, [6, 5, 4], [1, 2, 3, 4, 5, 6, 25]] \n",
      "\n",
      "lista strings original:  ['Joao', 'Paulo', 'Maria', 'Paulo', 'Joana']\n",
      "lista strings modificada:  ['Joao', 'Paulo', 'MARIA', 'Paulo', 'Joana'] \n",
      "\n",
      "removeu palavra que estava no indice 3:  ['Joao', 'Paulo', 'MARIA', 'Joana']\n",
      "ramover a palavra Paulo:  ['Joao', 'MARIA', 'Joana']\n"
     ]
    }
   ],
   "source": [
    "# Trabalhando com listas:\n",
    "\n",
    "# Extraindo informações de listas:\n",
    "print('Tamanho da lista_num: ', len(lista_num)) #informa o tamanho da lista\n",
    "print('Tamanho da lista_str: ', len(lista_str))\n",
    "print('Tamanho da lista_float: ', len(lista_float))\n",
    "print('Tamanho da lista_mista: ', len(lista_mista),'\\n')\n",
    "\n",
    "print('Em qual indice a palavra Paulo esta?')\n",
    "print(lista_str.index('Paulo')) # a função '.index' retorna o índice da primeira ocorrência do valor especificado.\n",
    "print('Em qual indice o numero 0.1 esta?')\n",
    "print(lista_mista.index(0.1), '\\n')\n",
    "\n",
    "# Modificando listas:\n",
    "print('lista original: ', lista_num)\n",
    "lista_num.append(25) #adiciona o elemento 25 no final da lista\n",
    "print('lista com elemento adicionado: ', lista_num, '\\n')\n",
    "\n",
    "print('lista mista original: ', lista_mista)\n",
    "lista_mista.extend([6,5,4]) #adiciona variaos elementos no final da lista alvo\n",
    "lista_mista.extend(lista_num)\n",
    "lista_mista.extend([[6,5,4]]) #adiciona uma lista no final da lista alvo. A lista ocupa uma única posição dentro da lista alvo.\n",
    "lista_mista.extend([lista_num])\n",
    "print('lista mista modificada: ', lista_mista, '\\n')\n",
    "\n",
    "print('lista strings original: ', lista_str)\n",
    "lista_str[2] = 'MARIA' #insere o novo valor na posição 2 da lista\n",
    "print('lista strings modificada: ', lista_str, '\\n')\n",
    "\n",
    "del lista_str[3] #Para remover um elemento usando o indice use o comando 'del'\n",
    "print('removeu palavra que estava no indice 3: ', lista_str) \n",
    "lista_str.remove('Paulo') # o '.remove' remove a primeira ocorrência do valor especificado\n",
    "print('ramover a palavra Paulo: ', lista_str)"
   ]
  },
  {
   "cell_type": "markdown",
   "id": "e8d44ae7",
   "metadata": {},
   "source": [
    "<h4> Extra: Função range como geradora de listas </h4>\n",
    "\n",
    "- função range gera um vetor (lista) contendo números inteiros sequênciais:\n",
    "- uso: \n",
    "\n",
    "        - list(range(inicio,fim))\n",
    "        \n",
    "- É importante observar que o número _fim_ descrito acima não é incluído.\n",
    "- Usa a funcao _list_ para retornar os valores compreendidos no intervalo _inicio-fim_."
   ]
  },
  {
   "cell_type": "code",
   "execution_count": 72,
   "id": "6da7a7d8-6a03-423f-89bc-5a5e18d40ae1",
   "metadata": {},
   "outputs": [
    {
     "data": {
      "text/plain": [
       "[0, 1, 2, 3, 4, 5, 6, 7, 8, 9, 10]"
      ]
     },
     "execution_count": 72,
     "metadata": {},
     "output_type": "execute_result"
    }
   ],
   "source": [
    "list(range(0,11))"
   ]
  },
  {
   "cell_type": "code",
   "execution_count": 40,
   "id": "4c8430ed",
   "metadata": {},
   "outputs": [
    {
     "name": "stdout",
     "output_type": "stream",
     "text": [
      "[0, 1, 2, 3, 4, 5, 6, 7, 8, 9]\n",
      "[0, 1, 2, 3, 4, 5, 6, 7, 8, 9]\n"
     ]
    }
   ],
   "source": [
    "lista1 = list(range(0,10))\n",
    "print(lista1)\n",
    "\n",
    "lista2 = list(range(10))\n",
    "print(lista2)"
   ]
  },
  {
   "cell_type": "code",
   "execution_count": 73,
   "id": "498e9009",
   "metadata": {},
   "outputs": [
    {
     "ename": "TypeError",
     "evalue": "'float' object cannot be interpreted as an integer",
     "output_type": "error",
     "traceback": [
      "\u001b[1;31m---------------------------------------------------------------------------\u001b[0m",
      "\u001b[1;31mTypeError\u001b[0m                                 Traceback (most recent call last)",
      "Cell \u001b[1;32mIn[73], line 1\u001b[0m\n\u001b[1;32m----> 1\u001b[0m lista3 \u001b[38;5;241m=\u001b[39m \u001b[38;5;28mlist\u001b[39m(\u001b[38;5;28;43mrange\u001b[39;49m\u001b[43m(\u001b[49m\u001b[38;5;241;43m0.5\u001b[39;49m\u001b[43m,\u001b[49m\u001b[43m \u001b[49m\u001b[38;5;241;43m6.5\u001b[39;49m\u001b[43m)\u001b[49m) \u001b[38;5;66;03m# retorna um erro porque so pode ser usados numeros inteiros.\u001b[39;00m\n\u001b[0;32m      2\u001b[0m \u001b[38;5;28mprint\u001b[39m(lista3)\n",
      "\u001b[1;31mTypeError\u001b[0m: 'float' object cannot be interpreted as an integer"
     ]
    }
   ],
   "source": [
    "lista3 = list(range(0.5, 6.5)) # retorna um erro porque so pode ser usados numeros inteiros.\n",
    "print(lista3)"
   ]
  },
  {
   "cell_type": "markdown",
   "id": "96a06ca7",
   "metadata": {},
   "source": [
    "# Quais tipos de operações são possíveis fazer com as listas?\n",
    "\n",
    "**DICA:** explore todos os tipos de operadores vistos anteriormente!"
   ]
  },
  {
   "cell_type": "code",
   "execution_count": 74,
   "id": "a77e2d19",
   "metadata": {},
   "outputs": [
    {
     "data": {
      "text/plain": [
       "[1, 2, 3, 4, 5, 6, 7, 8]"
      ]
     },
     "execution_count": 74,
     "metadata": {},
     "output_type": "execute_result"
    }
   ],
   "source": [
    "# Exercício:\n",
    "\n",
    "lista1 = [1,2,3,4]\n",
    "lista2 = [5,6,7,8]\n",
    "\n",
    "# O que acontece quando soma-se duas listas?\n",
    "lista1 + lista2 "
   ]
  },
  {
   "cell_type": "code",
   "execution_count": 75,
   "id": "8853095c-721a-475c-ba8b-f98fcd3ca08e",
   "metadata": {},
   "outputs": [
    {
     "data": {
      "text/plain": [
       "[1, 2, 3, 4, 1, 2, 3, 4, 1, 2, 3, 4]"
      ]
     },
     "execution_count": 75,
     "metadata": {},
     "output_type": "execute_result"
    }
   ],
   "source": [
    "lista1 * 3"
   ]
  },
  {
   "cell_type": "code",
   "execution_count": 43,
   "id": "f92343db",
   "metadata": {},
   "outputs": [],
   "source": [
    "#O que acontece quando multiplica-se duas listas?\n",
    "\n",
    "## INSIRA O CODIGO AQUI ##"
   ]
  },
  {
   "cell_type": "code",
   "execution_count": 44,
   "id": "4a2484fb",
   "metadata": {},
   "outputs": [],
   "source": [
    "#O que acontece quando divide-se duas listas?\n",
    "\n",
    "## INSIRA O CODIGO AQUI ##"
   ]
  },
  {
   "cell_type": "code",
   "execution_count": 45,
   "id": "c056ff26",
   "metadata": {},
   "outputs": [],
   "source": [
    "#Use a toda sua criatividade e explore todos os recursos vistos!!"
   ]
  },
  {
   "cell_type": "markdown",
   "id": "7256de85",
   "metadata": {},
   "source": [
    "<a id=\"g2\"><h3> B)Tuplas: </h3></a>\n",
    "\n",
    "São similares as listas, porem são imutáveis e por isso as tuplas sao mais compactas e eficazes em termos de memória e eficiência.\n",
    "\n",
    "- comando básico:\n",
    "\n",
    "_tupla = (elementos)_\n",
    "\n",
    "ou pode-se usar a função tuple:\n",
    "\n",
    "_tupla = tuple((elementos))_\n",
    "\n",
    "para tupla vazia:\n",
    "_tupla = ()_ ou _tupla = tuple()_\n",
    "\n",
    "- Alguns operadores aritméticos e relacionais também se aplicam as tuplas assim como visto para as listas.\n",
    "- Basicamente, as tuplas podem ser concatenadas e são comparáveis."
   ]
  },
  {
   "cell_type": "code",
   "execution_count": 76,
   "id": "8a166012",
   "metadata": {},
   "outputs": [
    {
     "data": {
      "text/plain": [
       "('um', 2, 3.2)"
      ]
     },
     "execution_count": 76,
     "metadata": {},
     "output_type": "execute_result"
    }
   ],
   "source": [
    "tupla = ('um', 2, 3.2)\n",
    "tupla"
   ]
  },
  {
   "cell_type": "code",
   "execution_count": 77,
   "id": "da988d38",
   "metadata": {},
   "outputs": [
    {
     "data": {
      "text/plain": [
       "'um'"
      ]
     },
     "execution_count": 77,
     "metadata": {},
     "output_type": "execute_result"
    }
   ],
   "source": [
    "tupla[0]"
   ]
  },
  {
   "cell_type": "code",
   "execution_count": 78,
   "id": "67369ec9",
   "metadata": {},
   "outputs": [
    {
     "data": {
      "text/plain": [
       "2"
      ]
     },
     "execution_count": 78,
     "metadata": {},
     "output_type": "execute_result"
    }
   ],
   "source": [
    "tupla[-2]"
   ]
  },
  {
   "cell_type": "code",
   "execution_count": 79,
   "id": "8e09b6c2",
   "metadata": {},
   "outputs": [
    {
     "data": {
      "text/plain": [
       "('um', 2, 3.2, (3, 4))"
      ]
     },
     "execution_count": 79,
     "metadata": {},
     "output_type": "execute_result"
    }
   ],
   "source": [
    "tupla += ((3,4),)\n",
    "tupla"
   ]
  },
  {
   "cell_type": "code",
   "execution_count": 80,
   "id": "91b361cc",
   "metadata": {},
   "outputs": [
    {
     "data": {
      "text/plain": [
       "(3, 4)"
      ]
     },
     "execution_count": 80,
     "metadata": {},
     "output_type": "execute_result"
    }
   ],
   "source": [
    "tupla[3]"
   ]
  },
  {
   "cell_type": "code",
   "execution_count": 81,
   "id": "e8cc44b4",
   "metadata": {},
   "outputs": [
    {
     "data": {
      "text/plain": [
       "3"
      ]
     },
     "execution_count": 81,
     "metadata": {},
     "output_type": "execute_result"
    }
   ],
   "source": [
    "tupla[3][0]"
   ]
  },
  {
   "cell_type": "code",
   "execution_count": 82,
   "id": "8d8c8931",
   "metadata": {},
   "outputs": [
    {
     "data": {
      "text/plain": [
       "4"
      ]
     },
     "execution_count": 82,
     "metadata": {},
     "output_type": "execute_result"
    }
   ],
   "source": [
    "tupla[3][1]"
   ]
  },
  {
   "cell_type": "markdown",
   "id": "6262e47c",
   "metadata": {},
   "source": [
    "# Quais tipos de operações são possíveis fazer com as tuplas?\n",
    "\n",
    "**DICA:** explore todos os tipos de operadores vistos anteriormente!"
   ]
  },
  {
   "cell_type": "code",
   "execution_count": 53,
   "id": "562aaffd",
   "metadata": {},
   "outputs": [],
   "source": [
    "# O que acontece quando soma-se duas tuplas?\n",
    "\n",
    "# O que acontece quando multiplica-se duas tuplas?\n",
    "\n",
    "# O que acontece quando divide-se duas tuplas?\n",
    "\n",
    "# Use a toda sua criatividade e explore todos os recursos vistos!!"
   ]
  },
  {
   "cell_type": "markdown",
   "id": "9c238487",
   "metadata": {},
   "source": [
    "<a id=\"g3\"><h3> C) Dicionários: </h3></a>\n",
    "\n",
    "Listas e tuplas são indexadas pela ordem dos elementos, ou seja, são ordenadas. \n",
    "Já os dicionários, não são!\n",
    "\n",
    "- No dicionário cada elemento recebe uma etiqueta, sendo mutáveis e heterogêneos.\n",
    "- Esta estrutura é a mais poderosa do Python, permitindo manipulações complexas.\n",
    "\n",
    "- comando básico:\n",
    "\n",
    "_dic = {chave: valor}_\n",
    "\n",
    "ou pode-se usar a função dict:\n",
    "\n",
    "_dic = dict({chave: valor})_\n",
    "\n",
    "para dicionário vazio:\n",
    "_dic = ()_ ou _dic = dict()_"
   ]
  },
  {
   "cell_type": "code",
   "execution_count": 83,
   "id": "7b566fd4",
   "metadata": {},
   "outputs": [
    {
     "data": {
      "text/plain": [
       "{'nome': 'Paulo',\n",
       " 'sobrenome': 'Martins',\n",
       " 'idade': 23,\n",
       " 'altura': 1.72,\n",
       " 'peso': 84}"
      ]
     },
     "execution_count": 83,
     "metadata": {},
     "output_type": "execute_result"
    }
   ],
   "source": [
    "dic = {'nome': 'Paulo','sobrenome': 'Martins','idade': 23, 'altura': 1.72, 'peso': 84}\n",
    "dic"
   ]
  },
  {
   "cell_type": "code",
   "execution_count": 84,
   "id": "d5d43049",
   "metadata": {},
   "outputs": [
    {
     "data": {
      "text/plain": [
       "dict_items([('nome', 'Paulo'), ('sobrenome', 'Martins'), ('idade', 23), ('altura', 1.72), ('peso', 84)])"
      ]
     },
     "execution_count": 84,
     "metadata": {},
     "output_type": "execute_result"
    }
   ],
   "source": [
    "dic.items() # retorna todos os itens do existentes no dicionário"
   ]
  },
  {
   "cell_type": "code",
   "execution_count": 85,
   "id": "8d556185-da8b-41c6-ad23-331036040fcc",
   "metadata": {},
   "outputs": [
    {
     "name": "stdout",
     "output_type": "stream",
     "text": [
      "nome Paulo\n",
      "sobrenome Martins\n",
      "idade 23\n",
      "altura 1.72\n",
      "peso 84\n"
     ]
    }
   ],
   "source": [
    "for key, value in dic.items():\n",
    "    print(key, value)"
   ]
  },
  {
   "cell_type": "code",
   "execution_count": 86,
   "id": "c3d3d8b7",
   "metadata": {},
   "outputs": [
    {
     "data": {
      "text/plain": [
       "dict_keys(['nome', 'sobrenome', 'idade', 'altura', 'peso'])"
      ]
     },
     "execution_count": 86,
     "metadata": {},
     "output_type": "execute_result"
    }
   ],
   "source": [
    "dic.keys() # retorna as chaves existentes no dicionário"
   ]
  },
  {
   "cell_type": "code",
   "execution_count": 87,
   "id": "eb0dafd4",
   "metadata": {},
   "outputs": [
    {
     "data": {
      "text/plain": [
       "dict_values(['Paulo', 'Martins', 23, 1.72, 84])"
      ]
     },
     "execution_count": 87,
     "metadata": {},
     "output_type": "execute_result"
    }
   ],
   "source": [
    "dic.values() # retorna os valores de cada chave"
   ]
  },
  {
   "cell_type": "code",
   "execution_count": 88,
   "id": "44407c8d",
   "metadata": {},
   "outputs": [
    {
     "data": {
      "text/plain": [
       "'Paulo'"
      ]
     },
     "execution_count": 88,
     "metadata": {},
     "output_type": "execute_result"
    }
   ],
   "source": [
    "dic['nome'] # retorna valor associado a chave 'nome'"
   ]
  },
  {
   "cell_type": "code",
   "execution_count": 89,
   "id": "ca6db58d",
   "metadata": {},
   "outputs": [
    {
     "data": {
      "text/plain": [
       "'Paulo'"
      ]
     },
     "execution_count": 89,
     "metadata": {},
     "output_type": "execute_result"
    }
   ],
   "source": [
    "dic.get('nome') # mesmo que o anterior"
   ]
  },
  {
   "cell_type": "markdown",
   "id": "7b6641c8",
   "metadata": {},
   "source": [
    "<a id=\"g4\"><h3> D) Conjuntos: </h3></a>\n",
    "\n",
    "Um conjunto (_set_) em Python é uma coleção de itens únicos, ou seja, distintos entre si.\n",
    "\n",
    "- comando básico:\n",
    "\n",
    "_conj = {valor}_\n",
    "\n",
    "ou pode-se usar a função set:\n",
    "\n",
    "_conj = set({valor})_\n",
    "\n",
    "para conjunto vazio:\n",
    "_conj = ()_ ou _conj = set()_"
   ]
  },
  {
   "cell_type": "code",
   "execution_count": 90,
   "id": "695ece96",
   "metadata": {},
   "outputs": [
    {
     "name": "stdout",
     "output_type": "stream",
     "text": [
      "Lista:  [1, 2, 2, 3, 3, 3]\n",
      "Conjunto apartir da lista:  {1, 2, 3}\n"
     ]
    }
   ],
   "source": [
    "# Exemplo:\n",
    "\n",
    "lista = [1, 2, 2, 3, 3, 3]\n",
    "conj = set(lista)\n",
    "print(\"Lista: \", lista)\n",
    "print(\"Conjunto apartir da lista: \", conj)"
   ]
  },
  {
   "cell_type": "code",
   "execution_count": 91,
   "id": "6388bc97",
   "metadata": {},
   "outputs": [
    {
     "name": "stdout",
     "output_type": "stream",
     "text": [
      "Lista:  [1, 2, 2, 3, 3, 3]\n",
      "Conjunto apartir da lista:  {1, 2, 3}\n",
      "{1, 2, 3, 4}\n",
      "{1}\n",
      "{2, 3, 4}\n",
      "{1, 2, 3, 4, 5, 6, 7}\n"
     ]
    }
   ],
   "source": [
    "# Principais funções:\n",
    "\n",
    "lista = [1, 2, 2, 3, 3, 3]\n",
    "conj = set(lista)\n",
    "print(\"Lista: \", lista)\n",
    "    \n",
    "print(\"Conjunto apartir da lista: \", conj)\n",
    "\n",
    "conj.add(4) #adiciona elemento\n",
    "print(conj)\n",
    "\n",
    "conj2 = {1,5,6,7}\n",
    "intersecao = conj.intersection(conj2) #retorna a interseção entre os dois conjuntos\n",
    "print(intersecao)\n",
    "\n",
    "diferenca = conj.difference(conj2) #retorna a diferenca entre dois conjuntos\n",
    "print(diferenca)\n",
    "\n",
    "uniao = conj.union(conj2) #retorna a união entre dois conjuntos\n",
    "print(uniao)"
   ]
  },
  {
   "cell_type": "markdown",
   "id": "5a86363d",
   "metadata": {},
   "source": [
    "# Quais tipos de operações são possíveis fazer com os dicionários e conjuntos?\n",
    "\n",
    "**DICA:** explore todos os tipos de operadores vistos anteriormente!"
   ]
  },
  {
   "cell_type": "code",
   "execution_count": 62,
   "id": "97ca82bc",
   "metadata": {},
   "outputs": [],
   "source": [
    "# É possível somar dicionários? E conjuntos? \n",
    "# É possível multiplicar dicionários? E conjuntos?\n",
    "# É possível dividir dicionários? E conjuntos?\n",
    "# Use a toda sua criatividade e explore todos os recursos vistos!!"
   ]
  }
 ],
 "metadata": {
  "kernelspec": {
   "display_name": "Python 3 (ipykernel)",
   "language": "python",
   "name": "python3"
  },
  "language_info": {
   "codemirror_mode": {
    "name": "ipython",
    "version": 3
   },
   "file_extension": ".py",
   "mimetype": "text/x-python",
   "name": "python",
   "nbconvert_exporter": "python",
   "pygments_lexer": "ipython3",
   "version": "3.8.18"
  }
 },
 "nbformat": 4,
 "nbformat_minor": 5
}
